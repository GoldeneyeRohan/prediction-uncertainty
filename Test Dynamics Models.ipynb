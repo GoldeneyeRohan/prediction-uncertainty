{
 "cells": [
  {
   "cell_type": "code",
   "execution_count": 1,
   "metadata": {},
   "outputs": [],
   "source": [
    "import controllers\n",
    "import controlpy\n",
    "import dynamics_models\n",
    "import numpy as np\n",
    "import matplotlib.pyplot as plt"
   ]
  },
  {
   "cell_type": "markdown",
   "metadata": {},
   "source": [
    "## Dubin Car\n",
    "do not use ode45-style numerical integration to check correctness of linearizations"
   ]
  },
  {
   "cell_type": "code",
   "execution_count": 2,
   "metadata": {},
   "outputs": [],
   "source": [
    "n = 4\n",
    "init_state = np.zeros(n)\n",
    "dt = 0.1\n",
    "process_noise = np.zeros((n,n))\n",
    "\n",
    "accel_limits = (-1,1)\n",
    "delta_limits = (- np.pi / 6,  np.pi / 6)\n",
    "v_ref = 4\n",
    "y_ref = lambda t: 1 if t > 10 and t < 30 else 0\n",
    "\n",
    "vehicle = dynamics_models.DubinCar(init_state, dt, process_noise, use_ode_integrator=False)\n",
    "\n",
    "speed_controller = controllers.PID(1, 0.00, 0, v_ref, 0, dt, accel_limits)\n",
    "steering_controller = controllers.PID(.2, 0.01, 1, y_ref(vehicle.t), 0, dt, delta_limits)\n",
    "speed_controller.build()\n",
    "steering_controller.build()"
   ]
  },
  {
   "cell_type": "code",
   "execution_count": 3,
   "metadata": {},
   "outputs": [],
   "source": [
    "x = vehicle.x\n",
    "x_traj = [x]\n",
    "u_traj = []\n",
    "\n",
    "for _ in range(int(60/dt)):\n",
    "    steering_controller.set_reference(y_ref(vehicle.t), 0)\n",
    "    a = speed_controller.solve(x[3])\n",
    "    delta = steering_controller.solve(x[1])\n",
    "    u = np.array([a, delta])\n",
    "    x = vehicle.f(u)\n",
    "    x_traj.append(x)\n",
    "    u_traj.append(u)"
   ]
  },
  {
   "cell_type": "code",
   "execution_count": 4,
   "metadata": {},
   "outputs": [],
   "source": [
    "linearizations = [vehicle.get_linearization(x, u, dt) for x, u in zip(x_traj, u_traj)]"
   ]
  },
  {
   "cell_type": "code",
   "execution_count": 5,
   "metadata": {},
   "outputs": [],
   "source": [
    "errors = []\n",
    "x_preds = []\n",
    "for i, (A,B,C) in enumerate(linearizations):\n",
    "    x_pred = A @ x_traj[i] + B @ u_traj[i] + C\n",
    "    error = np.abs(x_pred - x_traj[i + 1])\n",
    "    errors.append(error)\n",
    "    x_preds.append(x_pred)\n",
    "errors = np.array(errors).T"
   ]
  },
  {
   "cell_type": "code",
   "execution_count": 6,
   "metadata": {},
   "outputs": [
    {
     "data": {
      "text/plain": [
       "True"
      ]
     },
     "execution_count": 6,
     "metadata": {},
     "output_type": "execute_result"
    }
   ],
   "source": [
    "np.max(errors) < 1e-20"
   ]
  },
  {
   "cell_type": "code",
   "execution_count": 7,
   "metadata": {},
   "outputs": [
    {
     "data": {
      "text/plain": [
       "[<matplotlib.lines.Line2D at 0x24dc5544b70>]"
      ]
     },
     "execution_count": 7,
     "metadata": {},
     "output_type": "execute_result"
    },
    {
     "data": {
      "image/png": "[encoded data removed]",
      "text/plain": [
       "<matplotlib.figure.Figure at 0x24dc5544a58>"
      ]
     },
     "metadata": {},
     "output_type": "display_data"
    }
   ],
   "source": [
    "x_traj = np.array(x_traj)\n",
    "u_traj = np.array(u_traj)\n",
    "x_preds = np.array(x_preds)\n",
    "plt.plot(x_traj[:,0], x_traj[:,1])\n",
    "plt.plot(x_preds[:,0], x_preds[:,1])"
   ]
  },
  {
   "cell_type": "markdown",
   "metadata": {},
   "source": [
    "## 2-D Drone"
   ]
  },
  {
   "cell_type": "code",
   "execution_count": 8,
   "metadata": {},
   "outputs": [],
   "source": [
    "n = 6\n",
    "dt = 0.1\n",
    "m = 0.5\n",
    "l = 0.4\n",
    "I = (1 / 3) * m * (l**2)\n",
    "init_state = np.zeros(6)\n",
    "process_noise = np.zeros((6,6))\n",
    "u_limits = (0, 10)\n",
    "pos_limit = (-1,1)\n",
    "period = 20\n",
    "x_ref = lambda t: np.sin(2 * np.pi / period * t)\n",
    "y_ref = lambda t: np.cos(2 * np.pi / period * t)\n",
    "offset = m * dynamics_models.GRAVITY\n",
    "ref = lambda t: np.array([x_ref(t), y_ref(t), 0, 0, 0, 0])\n",
    "vehicle = dynamics_models.PlanarQuadrotor(init_state, m, l , I, dt, process_noise, use_ode_integrator=True)\n",
    "A, B, C = vehicle.get_linearization(init_state, np.array([offset, offset]) / 2, dt)\n",
    "K, _, _ = controlpy.synthesis.controller_lqr_discrete_time(A, B, np.diag([10,10,1,1,1,1]), np.eye(2))"
   ]
  },
  {
   "cell_type": "code",
   "execution_count": 9,
   "metadata": {},
   "outputs": [],
   "source": [
    "x = vehicle.x\n",
    "x_traj = [x]\n",
    "u_traj = []\n",
    "\n",
    "for t in np.arange(0,40, dt):  \n",
    "    u =  K @ (ref(t) - x) + np.ones(2) * (offset / (2 * np.cos(x[2])))\n",
    "    x = vehicle.f(u)\n",
    "    x_traj.append(x)\n",
    "    u_traj.append(u)"
   ]
  },
  {
   "cell_type": "code",
   "execution_count": 10,
   "metadata": {},
   "outputs": [],
   "source": [
    "linearizations = [vehicle.get_linearization(x, u, dt) for x, u in zip(x_traj, u_traj)]\n",
    "errors = []\n",
    "x_preds = []\n",
    "for i, (A,B,C) in enumerate(linearizations):\n",
    "    x_pred = A @ x_traj[i] + B @ u_traj[i] + C\n",
    "    error = np.abs(x_pred - x_traj[i + 1])\n",
    "    errors.append(error)\n",
    "    x_preds.append(x_pred)\n",
    "errors = np.array(errors).T"
   ]
  },
  {
   "cell_type": "code",
   "execution_count": 11,
   "metadata": {},
   "outputs": [
    {
     "data": {
      "text/plain": [
       "4.0765912312501484e-08"
      ]
     },
     "execution_count": 11,
     "metadata": {},
     "output_type": "execute_result"
    }
   ],
   "source": [
    "np.max(errors)"
   ]
  },
  {
   "cell_type": "code",
   "execution_count": 12,
   "metadata": {},
   "outputs": [
    {
     "data": {
      "text/plain": [
       "<matplotlib.quiver.Quiver at 0x14fabfed390>"
      ]
     },
     "execution_count": 12,
     "metadata": {},
     "output_type": "execute_result"
    },
    {
     "data": {
      "image/png": "[encoded data removed]",
      "text/plain": [
       "<matplotlib.figure.Figure at 0x14fabfba320>"
      ]
     },
     "metadata": {},
     "output_type": "display_data"
    }
   ],
   "source": [
    "x_traj = np.array(x_traj)\n",
    "u_traj = np.array(u_traj)\n",
    "x_preds = np.array(x_preds)\n",
    "plt.plot(x_traj[:,0], x_traj[:,1])\n",
    "k = 10\n",
    "plt.quiver(x_traj[::k,0], x_traj[::k,1], -30 * np.sin(x_traj[::k,2]),   np.cos(x_traj[::k,2]))"
   ]
  },
  {
   "cell_type": "code",
   "execution_count": 13,
   "metadata": {},
   "outputs": [
    {
     "data": {
      "text/plain": [
       "[<matplotlib.lines.Line2D at 0x14fae169080>]"
      ]
     },
     "execution_count": 13,
     "metadata": {},
     "output_type": "execute_result"
    },
    {
     "data": {
      "image/png": "[encoded data removed]",
      "text/plain": [
       "<matplotlib.figure.Figure at 0x14f9af207b8>"
      ]
     },
     "metadata": {},
     "output_type": "display_data"
    }
   ],
   "source": [
    "plt.plot(np.cos(x_traj[:,2]))"
   ]
  },
  {
   "cell_type": "code",
   "execution_count": null,
   "metadata": {},
   "outputs": [],
   "source": []
  }
 ],
 "metadata": {
  "kernelspec": {
   "display_name": "Python 3",
   "language": "python",
   "name": "python3"
  },
  "language_info": {
   "codemirror_mode": {
    "name": "ipython",
    "version": 3
   },
   "file_extension": ".py",
   "mimetype": "text/x-python",
   "name": "python",
   "nbconvert_exporter": "python",
   "pygments_lexer": "ipython3",
   "version": "3.6.4"
  }
 },
 "nbformat": 4,
 "nbformat_minor": 2
}
