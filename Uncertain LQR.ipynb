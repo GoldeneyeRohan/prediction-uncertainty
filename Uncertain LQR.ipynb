{
 "cells": [
  {
   "cell_type": "code",
   "execution_count": 478,
   "metadata": {},
   "outputs": [],
   "source": [
    "import numpy as np\n",
    "import scipy.linalg\n",
    "import matplotlib.pyplot as plt\n",
    "import tqdm\n",
    "import controlpy\n",
    "from control_utils import compute_traj_cost"
   ]
  },
  {
   "cell_type": "code",
   "execution_count": 479,
   "metadata": {},
   "outputs": [],
   "source": [
    "A = np.array([[1,1],[0,1]])\n",
    "B = np.array([[0],[1]])\n",
    "\n",
    "n = A.shape[0]\n",
    "m = B.shape[1]\n",
    "\n",
    "Q = np.eye(2)\n",
    "R = np.eye(1)\n",
    "S = np.zeros((2,1))"
   ]
  },
  {
   "cell_type": "code",
   "execution_count": 480,
   "metadata": {},
   "outputs": [
    {
     "name": "stdout",
     "output_type": "stream",
     "text": [
      "True\n",
      "[[ 0.1052  -0.00206 -0.00115]\n",
      " [-0.00206  0.10288 -0.00379]\n",
      " [-0.00115 -0.00379  0.11455]]\n",
      "0.3226350464264197\n"
     ]
    }
   ],
   "source": [
    "s_rand = 0.05\n",
    "s_model = 0.1\n",
    "randcov = np.random.randn(n + m, n + m) * s_rand\n",
    "randcov = randcov.T @ randcov\n",
    "model_cov = np.eye(n + m) * s_model + randcov\n",
    "sigma_w = np.eye(n) * 0.1\n",
    "\n",
    "def get_perturbed_model(A, B):    \n",
    "    sample = np.random.multivariate_normal(np.zeros(n+m), sigma_w[0,0] * model_cov, n)\n",
    "    A_hat = A + sample[:,:n]\n",
    "    B_hat = B + sample[:,n:].reshape((n,m))\n",
    "    return A_hat, B_hat\n",
    "\n",
    "def is_controllable(A, B):\n",
    "    return np.linalg.matrix_rank(np.hstack((B, A @ B))) == 2\n",
    "A_hat, B_hat = get_perturbed_model(A,B)\n",
    "print(is_controllable(A_hat, B_hat))\n",
    "print(model_cov)\n",
    "print(np.trace(model_cov))"
   ]
  },
  {
   "cell_type": "code",
   "execution_count": 481,
   "metadata": {},
   "outputs": [],
   "source": [
    "def iterate_are(P_next, A_hat, B_hat, Q, R, S, model_cov, sigma_w, lr=1):\n",
    "    Q_hat = model_cov[:n,:n]\n",
    "    R_hat = model_cov[n:,n:]\n",
    "    S_hat = model_cov[:n, n:]\n",
    "    gamma = np.trace(P_next @ sigma_w)\n",
    "    F = - np.linalg.inv(R + gamma * R_hat + B_hat.T @ P_next @ B_hat) @  (S.T  + gamma * S_hat.T +  B_hat.T @ P_next @ A_hat)\n",
    "    P_curr = Q + gamma * Q_hat - (S + gamma * S_hat + A_hat.T @ P_next @ B_hat) @ np.linalg.inv(R + gamma * R_hat + B_hat.T @ P_next @ B_hat) @ (S.T + gamma * S_hat.T + B_hat.T @ P_next @ A_hat) + A_hat.T @ P_next @ A_hat\n",
    "    P_curr = lr * P_curr + (1 - lr) * P_next\n",
    "    return P_curr, F\n",
    "\n",
    "def solve_mod_are(A_hat, B_hat, Q, R, S, model_cov, sigma_w, tol=1e-10, max_iter=500):\n",
    "    P = scipy.linalg.solve_discrete_are(A_hat, B_hat, Q, R,s=S)\n",
    "    converged = False\n",
    "    P_curr = P\n",
    "    for i in range(max_iter):\n",
    "        P_curr, F = iterate_are(P, A_hat, B_hat, Q, R, S, model_cov, sigma_w)\n",
    "        if np.linalg.norm(P - P_curr) <= tol:\n",
    "            converged = True\n",
    "            break\n",
    "        P = P_curr\n",
    "    return P, F, converged\n",
    "    "
   ]
  },
  {
   "cell_type": "code",
   "execution_count": 482,
   "metadata": {},
   "outputs": [
    {
     "name": "stdout",
     "output_type": "stream",
     "text": [
      "9.259444961443233e-11\n",
      "0.33564089120568125 0.0016045509341891453\n"
     ]
    }
   ],
   "source": [
    "P_ce = scipy.linalg.solve_discrete_are(A_hat, B_hat, Q, R,s=S)\n",
    "Ps = [P_ce]\n",
    "Fs = []\n",
    "N = 500\n",
    "for i in range(N):\n",
    "    P_curr, F_curr = iterate_are(Ps[-1], A_hat, B_hat, Q, R, S, model_cov, sigma_w)\n",
    "    Ps.append(P_curr)\n",
    "    Fs.append(F_curr)\n",
    "P_stoch = Ps[-1]\n",
    "F_ce = Fs[-1]\n",
    "PP, F, conv = solve_mod_are(A_hat, B_hat, Q, R, S, model_cov, sigma_w)\n",
    "print(np.linalg.norm(PP - P_stoch))\n",
    "K, P_ce, _ = controlpy.synthesis.controller_lqr_discrete_time(A_hat, B_hat, Q, R)\n",
    "print(np.linalg.norm(P_ce - PP), np.linalg.norm(K + F))"
   ]
  },
  {
   "cell_type": "code",
   "execution_count": 483,
   "metadata": {},
   "outputs": [
    {
     "data": {
      "text/plain": [
       "[<matplotlib.lines.Line2D at 0x25399bf8c88>]"
      ]
     },
     "execution_count": 483,
     "metadata": {},
     "output_type": "execute_result"
    },
    {
     "data": {
      "image/png": "[encoded data removed]",
      "text/plain": [
       "<matplotlib.figure.Figure at 0x253972249e8>"
      ]
     },
     "metadata": {},
     "output_type": "display_data"
    }
   ],
   "source": [
    "P_norms = [np.linalg.norm(P) for P in Ps]\n",
    "F_norms = [np.linalg.norm(F) for F in Fs]\n",
    "plt.plot(P_norms)\n",
    "plt.plot(F_norms)"
   ]
  },
  {
   "cell_type": "code",
   "execution_count": 484,
   "metadata": {},
   "outputs": [],
   "source": [
    "def sim_traj(x0, A, B, F, sigma_w, episode_length):\n",
    "    x_traj = [x0]\n",
    "    u_traj = []\n",
    "    for _ in range(episode_length):\n",
    "        x = x_traj[-1]\n",
    "        u = F @ x_traj[-1]\n",
    "        z = np.hstack((x,u))\n",
    "        x_next = A @ x + B @ u + np.random.multivariate_normal(np.zeros(A.shape[0]), sigma_w)\n",
    "        x_traj.append(x_next)\n",
    "        u_traj.append(u)\n",
    "    return np.array(x_traj), np.array(u_traj)\n",
    "\n",
    "def sim_experiment(x0, A, B, sigma_w, episode_length):\n",
    "    A_hat, B_hat = get_perturbed_model(A, B)\n",
    "    K, P_ce, _ = controlpy.synthesis.controller_lqr_discrete_time(A_hat, B_hat, Q, R)\n",
    "    F_ce = -K\n",
    "    P_stoch, F_stoch, converged = solve_mod_are(A_hat, B_hat, Q, R, S, model_cov, sigma_w)\n",
    "    if converged:\n",
    "        x_ce, u_ce = sim_traj(x0, A, B, F_ce, sigma_w, episode_length)\n",
    "        x_stoch, u_stoch = sim_traj(x0, A, B, F_stoch, sigma_w, episode_length)\n",
    "        return True, (x_ce, u_ce, P_ce, F_ce), (x_stoch, u_stoch, P_stoch, F_stoch)\n",
    "    else:\n",
    "        return False, None, None"
   ]
  },
  {
   "cell_type": "code",
   "execution_count": 490,
   "metadata": {},
   "outputs": [
    {
     "name": "stderr",
     "output_type": "stream",
     "text": [
      "100%|████████████████████████████████████████████████████████████████████████████████| 100/100 [00:04<00:00, 20.40it/s]\n"
     ]
    },
    {
     "name": "stdout",
     "output_type": "stream",
     "text": [
      "100\n"
     ]
    }
   ],
   "source": [
    "num_experiments = 100\n",
    "# num_episodes = 10\n",
    "episode_length = 50\n",
    "ce_results = []\n",
    "stoch_results = []\n",
    "x0 = np.array([4,0])\n",
    "for _ in tqdm.tqdm(range(num_experiments)):\n",
    "    converged, ce_res, stoch_res = sim_experiment(x0, A, B, sigma_w, episode_length)\n",
    "    if converged:\n",
    "        ce_results.append(ce_res)\n",
    "        stoch_results.append(stoch_res)\n",
    "print(len(stoch_results))"
   ]
  },
  {
   "cell_type": "code",
   "execution_count": 506,
   "metadata": {},
   "outputs": [],
   "source": [
    "h = lambda x,u: x.T @ Q @ x + u.T @ R @ u\n",
    "\n",
    "def comp_c2gs(result):\n",
    "    \n",
    "    c2gs = [compute_traj_cost(x_traj[:-1,:].T, u_traj.T, h) for x_traj, u_traj, P, F in result]\n",
    "    return np.vstack(c2gs)\n",
    "\n",
    "def comp_est_c2gs(sigma_w, result):\n",
    "    c2gs = [[x.T @ P @ x + np.trace(P @ sigma_w) for x in np.rollaxis(x_traj,0)] for x_traj, u_traj, P, F in result]\n",
    "    return np.vstack(c2gs)\n",
    "    \n",
    "def is_unstable(res):\n",
    "    x_traj = res[0]\n",
    "    return np.linalg.norm(x_traj[-1,:]) >= 5e10\n",
    "\n",
    "def split_stable(result):\n",
    "    stable = [res for res in result if not is_unstable(res)]\n",
    "    unstable = [res for res in result if is_unstable(res)]\n",
    "    return stable, unstable"
   ]
  },
  {
   "cell_type": "code",
   "execution_count": 507,
   "metadata": {},
   "outputs": [],
   "source": [
    "stable_stoch, unstable_stoch = split_stable(stoch_results)\n",
    "stable_ce, unstable_ce = split_stable(ce_results)\n",
    "c2gs_stoch = comp_c2gs(stable_stoch)\n",
    "c2gs_ce = comp_c2gs(stable_ce)\n",
    "c2gs_stoch_est = comp_est_c2gs(sigma_w, stable_stoch)\n",
    "c2gs_ce_est = comp_est_c2gs(sigma_w, stable_ce)"
   ]
  },
  {
   "cell_type": "code",
   "execution_count": 508,
   "metadata": {},
   "outputs": [],
   "source": [
    "def plot_with_cov(x, color=\"b\", alpha=0.3):\n",
    "    means = np.mean(x, axis=0)\n",
    "    std = np.std(x, axis=0)\n",
    "    hi = means + 2 * std\n",
    "    lo = np.maximum(means - 2 * std,0)\n",
    "    plt.plot(means, color)\n",
    "    plt.fill_between(np.arange(x.shape[1]), hi, lo, color=color, alpha=alpha)"
   ]
  },
  {
   "cell_type": "code",
   "execution_count": 509,
   "metadata": {},
   "outputs": [
    {
     "name": "stdout",
     "output_type": "stream",
     "text": [
      "100.0 100.0\n"
     ]
    },
    {
     "data": {
      "image/png": "[encoded data removed]",
      "text/plain": [
       "<matplotlib.figure.Figure at 0x25399a6e5f8>"
      ]
     },
     "metadata": {},
     "output_type": "display_data"
    }
   ],
   "source": [
    "plt.figure()\n",
    "plot_with_cov(c2gs_ce, color=\"k\")\n",
    "plot_with_cov(c2gs_stoch, color=\"r\")\n",
    "stoch_pct = len(stable_stoch) / (len(stable_stoch) + len(unstable_stoch)) * 100\n",
    "ce_pct = len(stable_ce) / (len(stable_ce) + len(unstable_ce)) * 100\n",
    "print(stoch_pct, ce_pct)"
   ]
  },
  {
   "cell_type": "code",
   "execution_count": 505,
   "metadata": {},
   "outputs": [
    {
     "name": "stdout",
     "output_type": "stream",
     "text": [
      "[40.40174 42.15679 42.4681  48.03046 52.17728 53.70127 64.3199  46.35277\n",
      " 54.00762 54.43464 48.93941 45.10723 49.93238 46.66128 54.06822 58.45988\n",
      " 58.38528 49.88788 98.89775 50.69552 36.06619 32.14199 42.785   57.14307\n",
      " 45.76239 60.50823 58.78412 61.3475  53.21772 43.35015 47.255   35.58765\n",
      " 40.16247 35.48338 53.00183 37.99916 65.31099 57.0282  28.37479 44.87194\n",
      " 53.72629]\n"
     ]
    },
    {
     "data": {
      "image/png": "[encoded data removed]",
      "text/plain": [
       "<matplotlib.figure.Figure at 0x2539770aa20>"
      ]
     },
     "metadata": {},
     "output_type": "display_data"
    }
   ],
   "source": [
    "plt.figure()\n",
    "plot_with_cov(c2gs_ce_est, color=\"k\")\n",
    "plot_with_cov(c2gs_stoch_est, color=\"r\")\n",
    "print(c2gs_ce_est[:,0])"
   ]
  },
  {
   "cell_type": "code",
   "execution_count": 477,
   "metadata": {},
   "outputs": [
    {
     "data": {
      "text/plain": [
       "(-5, 5)"
      ]
     },
     "execution_count": 477,
     "metadata": {},
     "output_type": "execute_result"
    },
    {
     "data": {
      "image/png": "[encoded data removed]",
      "text/plain": [
       "<matplotlib.figure.Figure at 0x25397559518>"
      ]
     },
     "metadata": {},
     "output_type": "display_data"
    }
   ],
   "source": [
    "plt.figure()\n",
    "for x_traj, _, _, _ in stable_ce:\n",
    "    plt.plot(x_traj[:,0], x_traj[:,1], \"k\", alpha=0.1)\n",
    "for x_traj, _, _, _ in stable_stoch:\n",
    "    plt.plot(x_traj[:,0], x_traj[:,1], \"r\", alpha=0.1)\n",
    "\n",
    "plt.xlim((-5,5))\n",
    "plt.ylim((-5,5))"
   ]
  },
  {
   "cell_type": "code",
   "execution_count": 311,
   "metadata": {},
   "outputs": [
    {
     "data": {
      "text/plain": [
       "977"
      ]
     },
     "execution_count": 311,
     "metadata": {},
     "output_type": "execute_result"
    }
   ],
   "source": [
    "len(stoch_results)"
   ]
  },
  {
   "cell_type": "code",
   "execution_count": 312,
   "metadata": {},
   "outputs": [
    {
     "data": {
      "text/plain": [
       "0.34561044555984066"
      ]
     },
     "execution_count": 312,
     "metadata": {},
     "output_type": "execute_result"
    }
   ],
   "source": [
    "x = np.ones(3)\n",
    "x.T @ model_cov @ x"
   ]
  },
  {
   "cell_type": "code",
   "execution_count": 313,
   "metadata": {},
   "outputs": [
    {
     "data": {
      "text/plain": [
       "(array([-0.44188, -0.21495]), array([[-0.3665 ,  0.03979],\n",
       "        [-0.93042, -0.99921]]))"
      ]
     },
     "execution_count": 313,
     "metadata": {},
     "output_type": "execute_result"
    }
   ],
   "source": [
    "A = np.random.rand(2,2)\n",
    "np.linalg.eig(-A)"
   ]
  },
  {
   "cell_type": "code",
   "execution_count": 314,
   "metadata": {},
   "outputs": [
    {
     "data": {
      "text/plain": [
       "(array([0.19526, 0.0462 ]), array([[ 0.3665 , -0.03979],\n",
       "        [ 0.93042,  0.99921]]))"
      ]
     },
     "execution_count": 314,
     "metadata": {},
     "output_type": "execute_result"
    }
   ],
   "source": [
    "np.linalg.eig(A@A)"
   ]
  },
  {
   "cell_type": "code",
   "execution_count": 320,
   "metadata": {},
   "outputs": [],
   "source": [
    "a = []\n",
    "b = [1,2,3]"
   ]
  },
  {
   "cell_type": "code",
   "execution_count": 321,
   "metadata": {},
   "outputs": [
    {
     "data": {
      "text/plain": [
       "[1, 2, 3]"
      ]
     },
     "execution_count": 321,
     "metadata": {},
     "output_type": "execute_result"
    }
   ],
   "source": [
    "a + b"
   ]
  },
  {
   "cell_type": "code",
   "execution_count": 414,
   "metadata": {},
   "outputs": [],
   "source": [
    "i = 9\n",
    "stoch_c2gs = np.vstack([compute_traj_cost(x_traj[:-1,:].T, u_traj.T, h) for x_traj, u_traj in zip(*stoch_results[i][:2])])\n",
    "ce_c2gs = np.vstack([compute_traj_cost(x_traj[:-1,:].T, u_traj.T, h) for x_traj, u_traj in zip(*ce_results[i][:2])])"
   ]
  },
  {
   "cell_type": "code",
   "execution_count": null,
   "metadata": {},
   "outputs": [],
   "source": []
  }
 ],
 "metadata": {
  "kernelspec": {
   "display_name": "Python 3",
   "language": "python",
   "name": "python3"
  },
  "language_info": {
   "codemirror_mode": {
    "name": "ipython",
    "version": 3
   },
   "file_extension": ".py",
   "mimetype": "text/x-python",
   "name": "python",
   "nbconvert_exporter": "python",
   "pygments_lexer": "ipython3",
   "version": "3.6.4"
  }
 },
 "nbformat": 4,
 "nbformat_minor": 2
}
