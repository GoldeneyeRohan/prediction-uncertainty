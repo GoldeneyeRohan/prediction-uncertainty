{
 "cells": [
  {
   "cell_type": "code",
   "execution_count": 1,
   "metadata": {},
   "outputs": [],
   "source": [
    "import controllers\n",
    "import controlpy\n",
    "import control_utils\n",
    "import dynamics_models\n",
    "import numpy as np\n",
    "import matplotlib.pyplot as plt\n",
    "import polytope\n",
    "import tqdm\n",
    "import uncertainty_utils"
   ]
  },
  {
   "cell_type": "markdown",
   "metadata": {},
   "source": [
    "## Setup Drone Dynamics"
   ]
  },
  {
   "cell_type": "code",
   "execution_count": 36,
   "metadata": {},
   "outputs": [],
   "source": [
    "# Dynamics Parameters\n",
    "n_states = 6\n",
    "n_inputs = 2\n",
    "dt = 0.1\n",
    "m = 0.5\n",
    "l = 0.4\n",
    "I = (1 / 3) * m * (l**2)\n",
    "init_state = np.array([3,3,0,.3,.3,0])\n",
    "linearization_state = np.zeros(6)\n",
    "state_limits = polytope.box2poly([[-2,4],[-2,4],[-np.pi/3, np.pi/3]])\n",
    "u_min = -.01\n",
    "u_max = 5\n",
    "input_limits = polytope.box2poly([[u_min,u_max], [u_min,u_max]])\n",
    "input_bounds = [np.array([u_min, u_min]), np.array([u_max, u_max])]\n",
    "offset = m * dynamics_models.GRAVITY / 2\n",
    "\n",
    "# Control Task\n",
    "Q = np.diag([10,10,1,1,1,1])\n",
    "R = np.eye(n_inputs)\n",
    "\n",
    "# Noise and Disturbances\n",
    "process_noise_var = 1e-3\n",
    "process_noise = process_noise_var * np.eye(n_states)\n",
    "t = uncertainty_utils.calc_t(0.95, n_states)\n",
    "# disturbance_set = uncertainty_utils.get_elipse(t, process_noise, np.zeros(n_states))\n",
    "db = t * np.sqrt(process_noise_var)\n",
    "disturbance_bound = polytope.box2poly([[-db, db]] * n_states)\n",
    "\n",
    "# Experiment Details\n",
    "episode_length = int(5 / dt)\n",
    "controller_horizon = 10\n",
    "state_reference = np.zeros(n_states)\n",
    "A_state = np.hstack((state_limits.A, np.zeros((state_limits.A.shape[0],3))))\n",
    "state_constraints = (A_state, state_limits.b)\n",
    "input_constraints = (input_limits.A, input_limits.b)\n",
    "\n",
    "# Vehicle\n",
    "def get_vehicle():\n",
    "    vehicle = dynamics_models.PlanarQuadrotor(init_state, m, l , I, dt, process_noise)\n",
    "    return vehicle\n",
    "\n",
    "def sim_traj(vehicle, controller, input_limits, episode_length=episode_length, linearize=False):\n",
    "    x_traj = [vehicle.x]\n",
    "    u_traj = []\n",
    "    \n",
    "    x_pred_trajs = []\n",
    "    u_pred_trajs = []\n",
    "\n",
    "    for _ in tqdm.tqdm(range(episode_length)):\n",
    "        u_command = controller.solve(x_traj[-1])\n",
    "        if u_command is None:\n",
    "            print(\"controller error at iteration %d\" %_)\n",
    "            break\n",
    "        if linearize:\n",
    "            A, B, C = control_utils.linearize_around(vehicle, controller.x_traj.value, controller.u_traj.value, dt)\n",
    "            controller.set_models(A,B,C)\n",
    "        u = np.minimum(np.maximum(input_limits[0], u_command), input_limits[1])\n",
    "        x_next = vehicle.f(u)\n",
    "\n",
    "        x_traj.append(x_next)\n",
    "        u_traj.append(u)\n",
    "        \n",
    "        x_pred_trajs.append(controller.x_traj.value.T)\n",
    "        u_pred_trajs.append(controller.u_traj.value.T)\n",
    "        \n",
    "    return np.array(x_traj), np.array(u_traj), x_pred_trajs, u_pred_trajs"
   ]
  },
  {
   "cell_type": "markdown",
   "metadata": {},
   "source": [
    "## Run initial Iteration, Tracking MPC"
   ]
  },
  {
   "cell_type": "code",
   "execution_count": 37,
   "metadata": {},
   "outputs": [],
   "source": [
    "vehicle = get_vehicle()\n",
    "A, B, C = vehicle.get_linearization(linearization_state, np.array([offset, offset]) / 2, dt)\n",
    "controller = controllers.LTI_MPC_Tracker(A, B, C,\n",
    "                                         controller_horizon, \n",
    "                                         Q, R, state_reference, \n",
    "                                         state_constraints, input_constraints)\n",
    "controller.build()"
   ]
  },
  {
   "cell_type": "code",
   "execution_count": 38,
   "metadata": {},
   "outputs": [
    {
     "name": "stderr",
     "output_type": "stream",
     "text": [
      "100%|██████████████████████████████████████████████████████████████████████████████████| 50/50 [00:03<00:00, 15.25it/s]\n"
     ]
    }
   ],
   "source": [
    "x_init_traj, u_init_traj, x_init_preds, u_init_preds = sim_traj(vehicle, controller, input_bounds)"
   ]
  },
  {
   "cell_type": "code",
   "execution_count": 39,
   "metadata": {},
   "outputs": [
    {
     "data": {
      "text/plain": [
       "<matplotlib.quiver.Quiver at 0x24d696b6128>"
      ]
     },
     "execution_count": 39,
     "metadata": {},
     "output_type": "execute_result"
    },
    {
     "data": {
      "image/png": "[encoded data removed]",
      "text/plain": [
       "<matplotlib.figure.Figure at 0x24d69601208>"
      ]
     },
     "metadata": {},
     "output_type": "display_data"
    }
   ],
   "source": [
    "k = 5\n",
    "lims = (-3,5)\n",
    "lw = 2\n",
    "state_proj = state_limits.project(np.arange(2) + 1)\n",
    "plt.figure(figsize=(6,6))\n",
    "plt.axis(\"equal\")\n",
    "plt.xlim(lims)\n",
    "plt.ylim(lims)\n",
    "\n",
    "ax = plt.gca()\n",
    "state_proj.plot(ax=ax, alpha=1, color=\"w\", edgecolor=\"b\", linewidth=lw)\n",
    "for x_pred in x_init_preds[::3]:\n",
    "    plt.plot(x_pred[:,0], x_pred[:,1], \"r--\")\n",
    "plt.plot(x_init_traj[:,0], x_init_traj[:,1], \"k-\", linewidth=lw)\n",
    "\n",
    "plt.quiver(x_init_traj[::k,0], x_init_traj[::k,1], - np.sin(x_init_traj[::k,2]),   np.cos(x_init_traj[::k,2]))"
   ]
  },
  {
   "cell_type": "markdown",
   "metadata": {},
   "source": [
    "## Setup LTI style LMPC"
   ]
  },
  {
   "cell_type": "code",
   "execution_count": 27,
   "metadata": {},
   "outputs": [],
   "source": [
    "num_episodes = 10\n",
    "controller = controllers.LTI_LMPC(A, B, C,\n",
    "                                     controller_horizon, \n",
    "                                     Q, R, state_reference, \n",
    "                                     state_constraints, input_constraints)\n",
    "h = lambda x, u: x.T @ Q @ x + u.T @ R @ u\n",
    "value_function = control_utils.compute_traj_cost(x_init_traj[:-1,:].T, u_init_traj.T, h)\n",
    "controller.add_trajectory(x_init_traj[:-1,:].T, u_init_traj.T, value_function)"
   ]
  },
  {
   "cell_type": "code",
   "execution_count": 28,
   "metadata": {},
   "outputs": [
    {
     "name": "stderr",
     "output_type": "stream",
     "text": [
      "  8%|██████▋                                                                            | 4/50 [00:00<00:07,  5.78it/s]"
     ]
    },
    {
     "name": "stdout",
     "output_type": "stream",
     "text": [
      "controller error at iteration 4\n"
     ]
    },
    {
     "name": "stderr",
     "output_type": "stream",
     "text": [
      "\n",
      "100%|██████████████████████████████████████████████████████████████████████████████████| 50/50 [00:07<00:00,  6.35it/s]\n",
      "100%|██████████████████████████████████████████████████████████████████████████████████| 50/50 [00:08<00:00,  6.16it/s]\n",
      "100%|██████████████████████████████████████████████████████████████████████████████████| 50/50 [00:08<00:00,  6.08it/s]\n",
      "100%|██████████████████████████████████████████████████████████████████████████████████| 50/50 [00:08<00:00,  6.04it/s]\n",
      "100%|██████████████████████████████████████████████████████████████████████████████████| 50/50 [00:08<00:00,  5.90it/s]\n",
      "100%|██████████████████████████████████████████████████████████████████████████████████| 50/50 [00:08<00:00,  5.83it/s]\n",
      "100%|██████████████████████████████████████████████████████████████████████████████████| 50/50 [00:09<00:00,  5.43it/s]\n",
      "100%|██████████████████████████████████████████████████████████████████████████████████| 50/50 [00:09<00:00,  5.44it/s]\n",
      "100%|██████████████████████████████████████████████████████████████████████████████████| 50/50 [00:09<00:00,  5.25it/s]\n"
     ]
    }
   ],
   "source": [
    "for episode in range(num_episodes):\n",
    "    vehicle = get_vehicle()\n",
    "    x_traj, u_traj, x_preds, u_preds = sim_traj(vehicle, controller, input_bounds)\n",
    "    value_function = control_utils.compute_traj_cost(x_traj[:-1,:].T, u_traj.T, h)\n",
    "    controller.add_trajectory(x_traj[:-1,:].T, u_traj.T, value_function)"
   ]
  },
  {
   "cell_type": "code",
   "execution_count": 29,
   "metadata": {},
   "outputs": [
    {
     "data": {
      "text/plain": [
       "<matplotlib.quiver.Quiver at 0x1bcfedbbef0>"
      ]
     },
     "execution_count": 29,
     "metadata": {},
     "output_type": "execute_result"
    },
    {
     "data": {
      "image/png": "[encoded data removed]",
      "text/plain": [
       "<matplotlib.figure.Figure at 0x1bcff47ea90>"
      ]
     },
     "metadata": {},
     "output_type": "display_data"
    }
   ],
   "source": [
    "k = 5\n",
    "lims = (-3,5)\n",
    "lw = 2\n",
    "state_proj = state_limits.project(np.arange(2) + 1)\n",
    "plt.figure(figsize=(6,6))\n",
    "plt.axis(\"equal\")\n",
    "plt.xlim(lims)\n",
    "plt.ylim(lims)\n",
    "\n",
    "ax = plt.gca()\n",
    "state_proj.plot(ax=ax, alpha=1, color=\"w\", edgecolor=\"b\", linewidth=lw)\n",
    "\n",
    "for x_traj in controller.traj_list:\n",
    "    plt.plot(x_traj[0,:], x_traj[1,:], \"k--\")\n",
    "\n",
    "x_traj = controller.traj_list[-1].T\n",
    "plt.quiver(x_traj[::k,0], x_traj[::k,1], - np.sin(x_traj[::k,2]),   np.cos(x_traj[::k,2]))"
   ]
  },
  {
   "cell_type": "code",
   "execution_count": 30,
   "metadata": {},
   "outputs": [
    {
     "data": {
      "text/plain": [
       "[<matplotlib.lines.Line2D at 0x1bcff0b1a90>]"
      ]
     },
     "execution_count": 30,
     "metadata": {},
     "output_type": "execute_result"
    },
    {
     "data": {
      "image/png": "[encoded data removed]",
      "text/plain": [
       "<matplotlib.figure.Figure at 0x1bcfed7b278>"
      ]
     },
     "metadata": {},
     "output_type": "display_data"
    }
   ],
   "source": [
    "lti_costs = [q[0] for q in controller.value_func_list]\n",
    "plt.plot(lti_costs, \"k-o\")"
   ]
  },
  {
   "cell_type": "markdown",
   "metadata": {},
   "source": [
    "## LTV LMPC"
   ]
  },
  {
   "cell_type": "code",
   "execution_count": 6,
   "metadata": {},
   "outputs": [],
   "source": [
    "num_episodes = 10\n",
    "controller = controllers.LTV_LMPC(A, B, C,\n",
    "                                     controller_horizon, \n",
    "                                     Q, R, state_reference, \n",
    "                                     state_constraints, input_constraints)\n",
    "h = lambda x, u: x.T @ Q @ x + u.T @ R @ u\n",
    "value_function = control_utils.compute_traj_cost(x_init_traj[:-1,:].T, u_init_traj.T, h)\n",
    "controller.add_trajectory(x_init_traj[:-1,:].T, u_init_traj.T, value_function)"
   ]
  },
  {
   "cell_type": "code",
   "execution_count": 32,
   "metadata": {},
   "outputs": [
    {
     "name": "stderr",
     "output_type": "stream",
     "text": [
      "  8%|██████▋                                                                            | 4/50 [00:00<00:08,  5.40it/s]"
     ]
    },
    {
     "name": "stdout",
     "output_type": "stream",
     "text": [
      "controller error at iteration 4\n"
     ]
    },
    {
     "name": "stderr",
     "output_type": "stream",
     "text": [
      "\n",
      " 32%|██████████████████████████▏                                                       | 16/50 [00:03<00:06,  5.32it/s]"
     ]
    },
    {
     "name": "stdout",
     "output_type": "stream",
     "text": [
      "controller error at iteration 16\n"
     ]
    },
    {
     "name": "stderr",
     "output_type": "stream",
     "text": [
      "\n",
      " 16%|█████████████▎                                                                     | 8/50 [00:01<00:07,  5.51it/s]"
     ]
    },
    {
     "name": "stdout",
     "output_type": "stream",
     "text": [
      "controller error at iteration 8\n"
     ]
    },
    {
     "name": "stderr",
     "output_type": "stream",
     "text": [
      "\n",
      "100%|██████████████████████████████████████████████████████████████████████████████████| 50/50 [00:08<00:00,  5.73it/s]\n",
      "100%|██████████████████████████████████████████████████████████████████████████████████| 50/50 [00:08<00:00,  5.95it/s]\n",
      "100%|██████████████████████████████████████████████████████████████████████████████████| 50/50 [00:08<00:00,  5.95it/s]\n",
      "100%|██████████████████████████████████████████████████████████████████████████████████| 50/50 [00:08<00:00,  5.92it/s]\n",
      "100%|██████████████████████████████████████████████████████████████████████████████████| 50/50 [00:08<00:00,  5.89it/s]\n",
      "100%|██████████████████████████████████████████████████████████████████████████████████| 50/50 [00:08<00:00,  5.80it/s]\n",
      "100%|██████████████████████████████████████████████████████████████████████████████████| 50/50 [00:08<00:00,  5.59it/s]\n"
     ]
    }
   ],
   "source": [
    "for episode in range(num_episodes):\n",
    "    vehicle = get_vehicle()\n",
    "    x_traj, u_traj, x_preds, u_preds = sim_traj(vehicle, controller, input_bounds, linearize=True)\n",
    "    value_function = control_utils.compute_traj_cost(x_traj[:-1,:].T, u_traj.T, h)\n",
    "    controller.add_trajectory(x_traj[:-1,:].T, u_traj.T, value_function)"
   ]
  },
  {
   "cell_type": "code",
   "execution_count": 33,
   "metadata": {},
   "outputs": [
    {
     "data": {
      "text/plain": [
       "<matplotlib.quiver.Quiver at 0x1bcff5117f0>"
      ]
     },
     "execution_count": 33,
     "metadata": {},
     "output_type": "execute_result"
    },
    {
     "data": {
      "image/png": "[encoded data removed]",
      "text/plain": [
       "<matplotlib.figure.Figure at 0x1bcff4432b0>"
      ]
     },
     "metadata": {},
     "output_type": "display_data"
    }
   ],
   "source": [
    "k = 5\n",
    "lims = (-3,5)\n",
    "lw = 2\n",
    "state_proj = state_limits.project(np.arange(2) + 1)\n",
    "plt.figure(figsize=(6,6))\n",
    "plt.axis(\"equal\")\n",
    "plt.xlim(lims)\n",
    "plt.ylim(lims)\n",
    "\n",
    "ax = plt.gca()\n",
    "state_proj.plot(ax=ax, alpha=1, color=\"w\", edgecolor=\"b\", linewidth=lw)\n",
    "\n",
    "for x_traj in controller.traj_list[3:]:\n",
    "    plt.plot(x_traj[0,:], x_traj[1,:], \"k--\")\n",
    "\n",
    "x_traj = controller.traj_list[-1].T\n",
    "plt.quiver(x_traj[::k,0], x_traj[::k,1], - np.sin(x_traj[::k,2]),   np.cos(x_traj[::k,2]))"
   ]
  },
  {
   "cell_type": "code",
   "execution_count": 40,
   "metadata": {},
   "outputs": [
    {
     "data": {
      "text/plain": [
       "[<matplotlib.lines.Line2D at 0x1bcff5b23c8>]"
      ]
     },
     "execution_count": 40,
     "metadata": {},
     "output_type": "execute_result"
    },
    {
     "data": {
      "image/png": "[encoded data removed]",
      "text/plain": [
       "<matplotlib.figure.Figure at 0x1bcff5cea58>"
      ]
     },
     "metadata": {},
     "output_type": "display_data"
    }
   ],
   "source": [
    "ltv_costs = [q[0] for q in controller.value_func_list]\n",
    "lti_costs_inf = np.hstack(([np.NaN] * 2,lti_costs[2:]))\n",
    "ltv_costs_inf = np.hstack(([np.NaN] * 4,ltv_costs[4:]))\n",
    "plt.plot(lti_costs_inf, \"k-o\")\n",
    "plt.plot(ltv_costs_inf, \"r-o\")"
   ]
  },
  {
   "cell_type": "markdown",
   "metadata": {},
   "source": [
    "## LTI Tube LMPC\n",
    "Don't RUN! COMPUTING MINIMAL INVARIANTS IN HIGH DIM IS NOT REALISTIC WITHOUT A PROPER FAST APPROXIMATION. It takes forever both in Matlab and in my python implementation, which largely uses the same methods as the MPT toolbox. Many projects that do control for \"high\" dimensional systems (i.e. n > 3) run into this problem. For example in [^1], they just subtract the disturbance set from the constraint sets to compute constraint tightenings... I'm sure there are a bunch of approximations that exist but they'll make things more conservative and/or also won't really be invariant. \n",
    "\n",
    "[^1]: A. Aswani, P. Bouffard, C. Tomlin, Extensions of Learning-Based Model Predictive Control for Real-Time\n",
    "Application to a Quadrotor Helicopter"
   ]
  },
  {
   "cell_type": "code",
   "execution_count": 7,
   "metadata": {},
   "outputs": [],
   "source": [
    "# num_episodes = 10\n",
    "\n",
    "# controller = controllers.LTI_Tube_LMPC(A, B, C,\n",
    "#                                      controller_horizon, \n",
    "#                                      Q, R, state_reference, \n",
    "#                                      state_constraints, input_constraints, \n",
    "#                                     (disturbance_bound.A, disturbance_bound.b))\n",
    "# h = lambda x, u: x.T @ Q @ x + u.T @ R @ u\n",
    "# value_function = control_utils.compute_traj_cost(x_init_traj[:-1,:].T, u_init_traj.T, h)\n",
    "# controller.add_trajectory(x_init_traj[:-1,:].T, u_init_traj.T, value_function)"
   ]
  },
  {
   "cell_type": "code",
   "execution_count": 8,
   "metadata": {},
   "outputs": [],
   "source": [
    "# for episode in range(num_episodes):\n",
    "#     vehicle = get_vehicle()\n",
    "#     x_traj, u_traj, x_preds, u_preds = sim_traj(vehicle, controller, input_bounds)\n",
    "#     value_function = control_utils.compute_traj_cost(x_traj[:-1,:].T, u_traj.T, h)\n",
    "#     controller.add_trajectory(x_traj[:-1,:].T, u_traj.T, value_function)"
   ]
  },
  {
   "cell_type": "markdown",
   "metadata": {},
   "source": [
    "## LTI MPC"
   ]
  },
  {
   "cell_type": "code",
   "execution_count": 40,
   "metadata": {},
   "outputs": [],
   "source": [
    "controller = controllers.LTI_MPC(A, B, C,\n",
    "                                     controller_horizon, \n",
    "                                     Q, R, state_reference, \n",
    "                                     state_constraints, input_constraints)\n",
    "controller.build()"
   ]
  },
  {
   "cell_type": "code",
   "execution_count": 41,
   "metadata": {},
   "outputs": [],
   "source": [
    "X = polytope.Polytope(*state_constraints)\n",
    "U = polytope.Polytope(*input_constraints)\n",
    "K, _, _ = controlpy.synthesis.controller_lqr_discrete_time(A, B, Q, R)\n",
    "O = control_utils.maximal_invariant(X, A, B=B, K=K, U=U)"
   ]
  },
  {
   "cell_type": "code",
   "execution_count": 42,
   "metadata": {},
   "outputs": [
    {
     "name": "stderr",
     "output_type": "stream",
     "text": [
      "100%|██████████████████████████████████████████████████████████████████████████████████| 50/50 [00:03<00:00, 12.64it/s]\n"
     ]
    }
   ],
   "source": [
    "vehicle = get_vehicle()\n",
    "x_traj, u_traj, x_preds, u_preds = sim_traj(vehicle, controller, input_bounds)"
   ]
  },
  {
   "cell_type": "code",
   "execution_count": 43,
   "metadata": {},
   "outputs": [
    {
     "data": {
      "text/plain": [
       "(-3, 5)"
      ]
     },
     "execution_count": 43,
     "metadata": {},
     "output_type": "execute_result"
    },
    {
     "data": {
      "image/png": "[encoded data removed]",
      "text/plain": [
       "<matplotlib.figure.Figure at 0x24d694b4f28>"
      ]
     },
     "metadata": {},
     "output_type": "display_data"
    }
   ],
   "source": [
    "plt.figure(figsize=(6,6))\n",
    "ax = plt.gca()\n",
    "Op = O.project([1,2])\n",
    "state_proj.plot(ax=ax, alpha=1, color=\"w\", edgecolor=\"b\", linewidth=lw)\n",
    "\n",
    "for x_pred in x_init_preds[::3]:\n",
    "    plt.plot(x_pred[:,0], x_pred[:,1], \"r--\")\n",
    "plt.plot(x_traj[:,0], x_traj[:,1], \"k-\", linewidth=lw)\n",
    "\n",
    "plt.quiver(x_traj[::k,0], x_traj[::k,1], - np.sin(x_traj[::k,2]),   np.cos(x_traj[::k,2]))\n",
    "Op.plot(ax=ax)\n",
    "plt.axis(\"equal\")\n",
    "plt.xlim(lims)\n",
    "plt.ylim(lims)"
   ]
  },
  {
   "cell_type": "code",
   "execution_count": null,
   "metadata": {},
   "outputs": [],
   "source": []
  },
  {
   "cell_type": "code",
   "execution_count": null,
   "metadata": {},
   "outputs": [],
   "source": []
  }
 ],
 "metadata": {
  "kernelspec": {
   "display_name": "Python 3",
   "language": "python",
   "name": "python3"
  },
  "language_info": {
   "codemirror_mode": {
    "name": "ipython",
    "version": 3
   },
   "file_extension": ".py",
   "mimetype": "text/x-python",
   "name": "python",
   "nbconvert_exporter": "python",
   "pygments_lexer": "ipython3",
   "version": "3.6.4"
  }
 },
 "nbformat": 4,
 "nbformat_minor": 2
}
