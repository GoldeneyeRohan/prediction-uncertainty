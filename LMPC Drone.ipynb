{
 "cells": [
  {
   "cell_type": "code",
   "execution_count": 65,
   "metadata": {},
   "outputs": [],
   "source": [
    "import controllers\n",
    "import controlpy\n",
    "import control_utils\n",
    "import dynamics_models\n",
    "import experiment_utils\n",
    "import numpy as np\n",
    "import matplotlib.pyplot as plt\n",
    "import polytope\n",
    "import tqdm\n",
    "import uncertainty_utils\n",
    "import trajectory_optimizers\n",
    "# matplotlib.rcParams['text.usetex'] = True\n",
    "plt.rc('font', size=16)\n",
    "plt.rcParams['legend.fontsize'] = 'large'\n",
    "plt.rcParams['axes.labelsize'] = 'large'"
   ]
  },
  {
   "cell_type": "markdown",
   "metadata": {},
   "source": [
    "## Setup Drone Dynamics"
   ]
  },
  {
   "cell_type": "code",
   "execution_count": 66,
   "metadata": {},
   "outputs": [],
   "source": [
    "# Dynamics Parameters\n",
    "n_states = 6\n",
    "n_inputs = 2\n",
    "dt = 0.1\n",
    "m = 0.5\n",
    "l = 0.4\n",
    "I = (1 / 3) * m * (l**2)\n",
    "init_state = np.array([3, 3,0,.3,.3,0])\n",
    "state_limits = polytope.box2poly([[-2,4],[-2,4],[-np.pi/3, np.pi/3]])\n",
    "u_min = -.01\n",
    "u_max = 5\n",
    "input_limits = polytope.box2poly([[u_min,u_max], [u_min,u_max]])\n",
    "input_bounds = [np.array([u_min, u_min]), np.array([u_max, u_max])]\n",
    "\n",
    "# Control Task\n",
    "Q = np.diag([10,10,1,1,1,1])\n",
    "R = np.eye(n_inputs)\n",
    "h = lambda x, u: (x - state_reference).T @ Q @ (x - state_reference) + (u - input_reference).T @ R @ (u - input_reference)\n",
    "\n",
    "# Noise and Disturbances\n",
    "process_noise_var = 0\n",
    "process_noise = process_noise_var * np.eye(n_states)\n",
    "t = uncertainty_utils.calc_t(0.95, n_states)\n",
    "# disturbance_set = uncertainty_utils.get_elipse(t, process_noise, np.zeros(n_states))\n",
    "db = t * np.sqrt(process_noise_var)\n",
    "disturbance_bound = polytope.box2poly([[-db, db]] * n_states)\n",
    "\n",
    "# Experiment Details\n",
    "episode_length = int(5 / dt)\n",
    "controller_horizon = 5\n",
    "num_episodes = 10\n",
    "state_reference = np.zeros(n_states)\n",
    "input_reference = np.ones(n_inputs) * m * 9.81 / n_inputs \n",
    "A_state = np.hstack((state_limits.A, np.zeros((state_limits.A.shape[0],3))))\n",
    "state_constraints = (A_state, state_limits.b)\n",
    "input_constraints = (input_limits.A, input_limits.b)\n",
    "\n",
    "# Vehicle\n",
    "def get_vehicle():\n",
    "    vehicle = dynamics_models.PlanarQuadrotor(init_state, m, l , I, dt, process_noise)\n",
    "    return vehicle\n",
    "\n",
    "def model_callback(vehicle, controller, episode_length):\n",
    "    A, B, C = control_utils.linearize_around(vehicle, controller.x_traj.value, controller.u_traj.value, vehicle.dt)\n",
    "    return A, B, C\n",
    "\n",
    "## Plotting \n",
    "figsize=(6,6)\n",
    "def plot_experiment(traj_list, x_preds, ax, lims=(-3,5), lw=2, k=5):\n",
    "    state_proj = state_limits.project(np.arange(2) + 1)\n",
    "    ax.axis(\"equal\")\n",
    "    ax.set_xlim(lims)\n",
    "    ax.set_ylim(lims)\n",
    "    ax.set_xlabel(\"x (in m)\")\n",
    "    ax.set_ylabel(\"y (in m)\")\n",
    "    state_proj.plot(ax=ax, alpha=1, color=\"w\", edgecolor=\"b\", linewidth=lw)\n",
    "\n",
    "    for x_traj in traj_list:\n",
    "        ax.plot(x_traj[0,:], x_traj[1,:], \"k--\")\n",
    "\n",
    "    x_traj = traj_list[-1].T\n",
    "    ax.quiver(x_traj[::k,0], x_traj[::k,1], - np.sin(x_traj[::k,2]),   np.cos(x_traj[::k,2]))\n",
    "\n",
    "    for x_pred in x_preds[::k]:\n",
    "        ax.plot(x_pred[:,0], x_pred[:,1], \"r--\")"
   ]
  },
  {
   "cell_type": "markdown",
   "metadata": {},
   "source": [
    "## Run initial Iteration, Tracking MPC"
   ]
  },
  {
   "cell_type": "code",
   "execution_count": 67,
   "metadata": {},
   "outputs": [],
   "source": [
    "vehicle = get_vehicle()\n",
    "A, B, C = vehicle.get_linearization(state_reference, input_reference, dt)\n",
    "controller = controllers.LTI_MPC_Tracker(A, B, C,\n",
    "                                         controller_horizon, \n",
    "                                         Q,  R, state_reference, input_reference, \n",
    "                                         state_constraints, input_constraints)\n",
    "controller.build()"
   ]
  },
  {
   "cell_type": "code",
   "execution_count": 68,
   "metadata": {},
   "outputs": [
    {
     "name": "stderr",
     "output_type": "stream",
     "text": [
      "100%|█████████████████████████████████████████████████████████████████████████| 50/50 [00:02<00:00, 18.48it/s]\n"
     ]
    },
    {
     "name": "stdout",
     "output_type": "stream",
     "text": [
      "2065.290488466044\n"
     ]
    }
   ],
   "source": [
    "x_init_traj, u_init_traj, x_init_preds, u_init_preds, slacks, terminal_slacks = experiment_utils.sim_traj(vehicle, controller, input_bounds, episode_length)\n",
    "init_value_function = control_utils.compute_traj_cost(x_init_traj[:-1,:].T, u_init_traj.T, h)\n",
    "print(init_value_function[0])"
   ]
  },
  {
   "cell_type": "code",
   "execution_count": 69,
   "metadata": {},
   "outputs": [
    {
     "data": {
      "text/plain": [
       "<matplotlib.axes._subplots.AxesSubplot at 0x18afa88a9b0>"
      ]
     },
     "execution_count": 69,
     "metadata": {},
     "output_type": "execute_result"
    },
    {
     "data": {
      "image/png": "[encoded data removed]",
      "text/plain": [
       "<matplotlib.figure.Figure at 0x18ae4a3f470>"
      ]
     },
     "metadata": {},
     "output_type": "display_data"
    }
   ],
   "source": [
    "fig = plt.figure(figsize=figsize)\n",
    "ax = plt.gca()\n",
    "plot_experiment([x_init_traj.T], x_init_preds, ax)\n",
    "O = polytope.Polytope(*controller.terminal_constraint)\n",
    "Op = O.project([1,2])\n",
    "Op.plot(ax, alpha=0.3)"
   ]
  },
  {
   "cell_type": "markdown",
   "metadata": {},
   "source": [
    "## Setup LTI style LMPC"
   ]
  },
  {
   "cell_type": "code",
   "execution_count": null,
   "metadata": {},
   "outputs": [],
   "source": [
    "controller = controllers.LTI_LMPC(A, B, C,\n",
    "                                     controller_horizon, \n",
    "                                     Q, R, state_reference, input_reference,\n",
    "                                     state_constraints, input_constraints)\n",
    "\n",
    "controller.add_trajectory(x_init_traj[:-1,:].T, u_init_traj.T, init_value_function)"
   ]
  },
  {
   "cell_type": "code",
   "execution_count": null,
   "metadata": {},
   "outputs": [
    {
     "name": "stderr",
     "output_type": "stream",
     "text": [
      "100%|█████████████████████████████████████████████████████████████████████████| 50/50 [00:02<00:00, 18.13it/s]\n",
      "100%|█████████████████████████████████████████████████████████████████████████| 50/50 [00:02<00:00, 18.14it/s]\n",
      " 32%|███████████████████████▎                                                 | 16/50 [00:00<00:02, 16.95it/s]"
     ]
    }
   ],
   "source": [
    "for episode in range(num_episodes):\n",
    "    vehicle = get_vehicle()\n",
    "    x_traj, u_traj, x_preds, u_preds, slacks, terminal_slacks = experiment_utils.sim_traj(vehicle, controller, input_bounds, episode_length)\n",
    "    value_function = control_utils.compute_traj_cost(x_traj[:-1,:].T, u_traj.T, h)\n",
    "    controller.add_trajectory(x_traj[:-1,:].T, u_traj.T, value_function)"
   ]
  },
  {
   "cell_type": "code",
   "execution_count": null,
   "metadata": {},
   "outputs": [],
   "source": [
    "fig = plt.figure(figsize=figsize)\n",
    "ax = plt.gca()\n",
    "plot_experiment(controller.traj_list, x_preds, ax)"
   ]
  },
  {
   "cell_type": "code",
   "execution_count": null,
   "metadata": {},
   "outputs": [],
   "source": [
    "lti_lmpc_costs = [q[0] for q in controller.value_func_list]\n",
    "plt.plot(lti_lmpc_costs, \"k-o\")"
   ]
  },
  {
   "cell_type": "markdown",
   "metadata": {},
   "source": [
    "## Naive LTV LMPC"
   ]
  },
  {
   "cell_type": "code",
   "execution_count": null,
   "metadata": {},
   "outputs": [],
   "source": [
    "controller = controllers.LTV_LMPC(A, B, C,\n",
    "                                     controller_horizon, \n",
    "                                     Q, R, state_reference, input_reference,\n",
    "                                     state_constraints, input_constraints)\n",
    "controller.add_trajectory(x_init_traj[:-1,:].T, u_init_traj.T, init_value_function)"
   ]
  },
  {
   "cell_type": "code",
   "execution_count": null,
   "metadata": {
    "scrolled": true
   },
   "outputs": [],
   "source": [
    "slack_per_episode = []\n",
    "term_slack_per_episode = []\n",
    "for episode in range(num_episodes):\n",
    "    vehicle = get_vehicle()\n",
    "    x_traj, u_traj, x_preds, u_preds, slacks, terminal_slacks = experiment_utils.sim_traj(vehicle, controller, input_bounds, episode_length, model_callback=model_callback)\n",
    "    value_function = control_utils.compute_traj_cost(x_traj[:-1,:].T, u_traj.T, h)\n",
    "    \n",
    "    controller.add_trajectory(x_traj[:-1,:].T, u_traj.T, value_function)\n",
    "    As, Bs, Cs = control_utils.linearize_around(vehicle, x_init_traj[:controller.N,:].T, u_init_traj[:controller.N,:].T, vehicle.dt)\n",
    "    controller.set_models(As, Bs, Cs)\n",
    "    slack_per_episode.append(slacks)\n",
    "    term_slack_per_episode.append(terminal_slacks)"
   ]
  },
  {
   "cell_type": "code",
   "execution_count": null,
   "metadata": {},
   "outputs": [],
   "source": [
    "fig = plt.figure(figsize=figsize)\n",
    "ax = plt.gca()\n",
    "plot_experiment(controller.traj_list, x_preds, ax)"
   ]
  },
  {
   "cell_type": "code",
   "execution_count": null,
   "metadata": {},
   "outputs": [],
   "source": [
    "naive_ltv_costs = [q[0] for q in controller.value_func_list]\n",
    "plt.plot(lti_lmpc_costs, \"k-o\")\n",
    "plt.plot(naive_ltv_costs, \"r-o\")"
   ]
  },
  {
   "cell_type": "code",
   "execution_count": null,
   "metadata": {},
   "outputs": [],
   "source": [
    "slack_list = [np.linalg.norm(slack) for slacks in slack_per_episode for slack in slacks]\n",
    "terminal_slack_list = [np.linalg.norm(tslack) for tslacks in term_slack_per_episode for tslack in tslacks]\n",
    "plt.figure()\n",
    "plt.plot(slack_list)\n",
    "plt.figure()\n",
    "plt.plot(terminal_slack_list)"
   ]
  },
  {
   "cell_type": "markdown",
   "metadata": {},
   "source": [
    "## LTI Tube LMPC\n",
    "Don't RUN! COMPUTING MINIMAL INVARIANTS IN HIGH DIM IS NOT REALISTIC WITHOUT A PROPER FAST APPROXIMATION. It takes forever both in Matlab and in my python implementation, which largely uses the same methods as the MPT toolbox. Many projects that do control for \"high\" dimensional systems (i.e. n > 3) run into this problem. For example in [^1], they just subtract the disturbance set from the constraint sets to compute constraint tightenings... I'm sure there are a bunch of approximations that exist but they'll make things more conservative and/or also won't really be invariant. \n",
    "\n",
    "[^1]: A. Aswani, P. Bouffard, C. Tomlin, Extensions of Learning-Based Model Predictive Control for Real-Time\n",
    "Application to a Quadrotor Helicopter"
   ]
  },
  {
   "cell_type": "code",
   "execution_count": null,
   "metadata": {},
   "outputs": [],
   "source": [
    "# num_episodes = 10\n",
    "\n",
    "# controller = controllers.LTI_Tube_LMPC(A, B, C,\n",
    "#                                      controller_horizon, \n",
    "#                                      Q, R, state_reference, \n",
    "#                                      state_constraints, input_constraints, \n",
    "#                                     (disturbance_bound.A, disturbance_bound.b))\n",
    "# h = lambda x, u: x.T @ Q @ x + u.T @ R @ u\n",
    "# value_function = control_utils.compute_traj_cost(x_init_traj[:-1,:].T, u_init_traj.T, h)\n",
    "# controller.add_trajectory(x_init_traj[:-1,:].T, u_init_traj.T, value_function)"
   ]
  },
  {
   "cell_type": "code",
   "execution_count": null,
   "metadata": {},
   "outputs": [],
   "source": [
    "# for episode in range(num_episodes):\n",
    "#     vehicle = get_vehicle()\n",
    "#     x_traj, u_traj, x_preds, u_preds = sim_traj(vehicle, controller, input_bounds)\n",
    "#     value_function = control_utils.compute_traj_cost(x_traj[:-1,:].T, u_traj.T, h)\n",
    "#     controller.add_trajectory(x_traj[:-1,:].T, u_traj.T, value_function)"
   ]
  },
  {
   "cell_type": "markdown",
   "metadata": {},
   "source": [
    "## LTI MPC"
   ]
  },
  {
   "cell_type": "code",
   "execution_count": null,
   "metadata": {},
   "outputs": [],
   "source": [
    "controller = controllers.LTI_MPC(A, B, C,\n",
    "                                     controller_horizon, \n",
    "                                     Q, R, state_reference, input_reference, \n",
    "                                     state_constraints, input_constraints)\n",
    "controller.build()"
   ]
  },
  {
   "cell_type": "code",
   "execution_count": null,
   "metadata": {},
   "outputs": [],
   "source": [
    "vehicle = get_vehicle()\n",
    "x_traj, u_traj, x_preds, u_preds, _, _ = experiment_utils.sim_traj(vehicle, controller, input_bounds, episode_length)"
   ]
  },
  {
   "cell_type": "code",
   "execution_count": null,
   "metadata": {},
   "outputs": [],
   "source": [
    "fig = plt.figure(figsize=figsize)\n",
    "ax = plt.gca()\n",
    "plot_experiment([x_traj.T], x_preds, ax)\n",
    "\n",
    "Op = O.project([1,2])\n",
    "Op.plot(ax=ax, alpha=0.3)\n",
    "fixed_lti_mpc_cost = control_utils.compute_traj_cost(x_traj[:-1,:].T, u_traj.T, h)"
   ]
  },
  {
   "cell_type": "markdown",
   "metadata": {},
   "source": [
    "## Local Safe Sets, TV LMPC"
   ]
  },
  {
   "cell_type": "code",
   "execution_count": null,
   "metadata": {},
   "outputs": [],
   "source": [
    "safe_set_size = 50\n",
    "n_safe_set_it = 5\n",
    "controller = controllers.Local_LTV_LMPC(A, B, C,\n",
    "                                     controller_horizon, \n",
    "                                     Q, R, state_reference, input_reference,\n",
    "                                     state_constraints, input_constraints, n_safe_set_it, safe_set_size)\n",
    "controller.build()\n",
    "controller.add_trajectory(x_init_traj[:-1,:].T, u_init_traj.T, init_value_function)"
   ]
  },
  {
   "cell_type": "code",
   "execution_count": null,
   "metadata": {},
   "outputs": [],
   "source": [
    "slack_per_episode = []\n",
    "term_slack_per_episode = []\n",
    "for episode in range(num_episodes):\n",
    "    vehicle = get_vehicle()\n",
    "    x_traj, u_traj, x_preds, u_preds, slacks, terminal_slacks = experiment_utils.sim_traj(vehicle, controller, input_bounds, episode_length, model_callback=model_callback)\n",
    "    value_function = control_utils.compute_traj_cost(x_traj[:-1,:].T, u_traj.T, h)\n",
    "    \n",
    "    controller.add_trajectory(x_traj[:-1,:].T, u_traj.T, value_function)\n",
    "    As, Bs, Cs = control_utils.linearize_around(vehicle, x_traj[:controller.N,:].T, u_traj[:controller.N,:].T, vehicle.dt)\n",
    "    controller.set_models(As, Bs, Cs)\n",
    "    slack_per_episode.append(slacks)\n",
    "    term_slack_per_episode.append(terminal_slacks)"
   ]
  },
  {
   "cell_type": "code",
   "execution_count": null,
   "metadata": {},
   "outputs": [],
   "source": [
    "fig = plt.figure(figsize=figsize)\n",
    "ax = plt.gca()\n",
    "plot_experiment(controller.traj_list, x_preds, ax)"
   ]
  },
  {
   "cell_type": "code",
   "execution_count": null,
   "metadata": {},
   "outputs": [],
   "source": [
    "local_ltv_costs = [q[0] for q in controller.value_func_list]\n",
    "plt.plot(local_ltv_costs, \"k-o\")"
   ]
  },
  {
   "cell_type": "markdown",
   "metadata": {},
   "source": [
    "## True TV LMPC"
   ]
  },
  {
   "cell_type": "code",
   "execution_count": null,
   "metadata": {},
   "outputs": [],
   "source": [
    "controller = controllers.True_LTV_LMPC(A, B, C,\n",
    "                                     controller_horizon, \n",
    "                                     Q, R, state_reference, input_reference,\n",
    "                                     state_constraints, input_constraints)\n",
    "\n",
    "controller.add_trajectory(x_init_traj[:-1,:].T, u_init_traj.T, init_value_function)\n",
    "\n",
    "def ltv_model_callback(vehicle, controller, episode_length):\n",
    "    i = controller.i\n",
    "    N = controller.N\n",
    "    i = min(episode_length - N, i)\n",
    "    x_traj = controller.traj_list[-1][:,i:i+N]\n",
    "    u_traj = controller.input_traj_list[-1][:,i:i+N]\n",
    "    A, B, C = control_utils.linearize_around(vehicle, x_traj, u_traj, vehicle.dt)\n",
    "    return A, B, C"
   ]
  },
  {
   "cell_type": "code",
   "execution_count": null,
   "metadata": {},
   "outputs": [],
   "source": [
    "slack_per_episode = []\n",
    "term_slack_per_episode = []\n",
    "for episode in range(num_episodes):\n",
    "    vehicle = get_vehicle()\n",
    "    x_traj, u_traj, x_preds, u_preds, slacks, terminal_slacks = experiment_utils.sim_traj(vehicle, controller, input_bounds, episode_length, model_callback=ltv_model_callback)\n",
    "    value_function = control_utils.compute_traj_cost(x_traj[:-1,:].T, u_traj.T, h)\n",
    "    controller.add_trajectory(x_traj[:-1,:].T, u_traj.T, value_function)\n",
    "    slack_per_episode.append(slacks)\n",
    "    term_slack_per_episode.append(terminal_slacks)"
   ]
  },
  {
   "cell_type": "code",
   "execution_count": null,
   "metadata": {},
   "outputs": [],
   "source": [
    "fig = plt.figure(figsize=figsize)\n",
    "ax = plt.gca()\n",
    "plot_experiment(controller.traj_list, x_preds, ax)"
   ]
  },
  {
   "cell_type": "code",
   "execution_count": null,
   "metadata": {},
   "outputs": [],
   "source": [
    "true_ltv_costs = [q[0] for q in controller.value_func_list]\n",
    "plt.plot(true_ltv_costs, \"k-o\")"
   ]
  },
  {
   "cell_type": "markdown",
   "metadata": {},
   "source": [
    "## Quasi LBLMPC"
   ]
  },
  {
   "cell_type": "code",
   "execution_count": null,
   "metadata": {},
   "outputs": [],
   "source": [
    "controller = controllers.LBLMPC(A, B, C,\n",
    "                                    controller_horizon, \n",
    "                                    Q, R, state_reference, input_reference,\n",
    "                                    state_constraints, input_constraints, (disturbance_bound.A, disturbance_bound.b))\n",
    "## Minimal Invariant Cannot Be Computed\n",
    "alpha = 0.3\n",
    "M = polytope.box2poly([[-alpha, alpha]] * n_states)\n",
    "X = polytope.Polytope(*controller.state_constraints)\n",
    "U = polytope.Polytope(*controller.input_constraints)\n",
    "X_bar = control_utils.pontryagin_difference(X, M)\n",
    "U_bar = control_utils.pontryagin_difference(U, control_utils.poly_transform(M, controller.K))\n",
    "controller.state_constraints = (X_bar.A, X_bar.b)\n",
    "controller.input_constraints = (U_bar.A, U_bar.b)\n",
    "controller.init_constraint = (M.A, M.b)\n",
    "\n",
    "\n",
    "controller.add_trajectory(x_init_traj[:-1,:].T, u_init_traj.T, init_value_function)\n"
   ]
  },
  {
   "cell_type": "code",
   "execution_count": null,
   "metadata": {
    "scrolled": true
   },
   "outputs": [],
   "source": [
    "slack_per_episode = []\n",
    "term_slack_per_episode = []\n",
    "for episode in range(num_episodes):\n",
    "    vehicle = get_vehicle()\n",
    "    x_traj, u_traj, x_preds, u_preds, slacks, terminal_slacks = experiment_utils.sim_traj(vehicle, controller, input_bounds, episode_length, model_callback=model_callback)\n",
    "    value_function = control_utils.compute_traj_cost(x_traj[:-1,:].T, u_traj.T, h)\n",
    "    \n",
    "    controller.add_trajectory(x_traj[:-1,:].T, u_traj.T, value_function)\n",
    "    As, Bs, Cs = control_utils.linearize_around(vehicle, x_traj[:controller.N,:].T, u_traj[:controller.N,:].T, vehicle.dt)\n",
    "    controller.set_models(As, Bs, Cs)\n",
    "    slack_per_episode.append(slacks)\n",
    "    term_slack_per_episode.append(terminal_slacks)"
   ]
  },
  {
   "cell_type": "code",
   "execution_count": null,
   "metadata": {
    "scrolled": true
   },
   "outputs": [],
   "source": [
    "fig = plt.figure(figsize=figsize)\n",
    "ax = plt.gca()\n",
    "plot_experiment(controller.traj_list, x_preds, ax)"
   ]
  },
  {
   "cell_type": "code",
   "execution_count": null,
   "metadata": {},
   "outputs": [],
   "source": [
    "lblmpc_costs = [q[0] for q in controller.value_func_list]\n",
    "plt.plot(lblmpc_costs, \"k-o\")\n",
    "plt.plot(lti_lmpc_costs, \"r-o\")"
   ]
  },
  {
   "cell_type": "markdown",
   "metadata": {},
   "source": [
    "### LTV Tube LMPC"
   ]
  },
  {
   "cell_type": "code",
   "execution_count": null,
   "metadata": {},
   "outputs": [],
   "source": [
    "## Minimal Invariant Cannot Be Computed\n",
    "alpha = 0.3\n",
    "M = polytope.box2poly([[-alpha, alpha]] * n_states)\n",
    "minimal_invariant = (M.A, M.b)\n",
    "\n",
    "controller = controllers.LTV_Tube_LMPC(A, B, C,\n",
    "                                    controller_horizon, \n",
    "                                    Q, R, state_reference, input_reference,\n",
    "                                    state_constraints, input_constraints, minimal_invariant)\n",
    "\n",
    "controller.add_trajectory(x_init_traj[:-1,:].T, u_init_traj.T, init_value_function)\n"
   ]
  },
  {
   "cell_type": "code",
   "execution_count": null,
   "metadata": {},
   "outputs": [],
   "source": [
    "slack_per_episode = []\n",
    "term_slack_per_episode = []\n",
    "for episode in range(num_episodes):\n",
    "    vehicle = get_vehicle()\n",
    "    x_traj, u_traj, x_preds, u_preds, slacks, terminal_slacks = experiment_utils.sim_traj(vehicle, controller, input_bounds, episode_length, model_callback=model_callback)\n",
    "    value_function = control_utils.compute_traj_cost(x_traj[:-1,:].T, u_traj.T, h)\n",
    "    \n",
    "    controller.add_trajectory(x_traj[:-1,:].T, u_traj.T, value_function)\n",
    "    As, Bs, Cs = control_utils.linearize_around(vehicle, x_traj[:controller.N,:].T, u_traj[:controller.N,:].T, vehicle.dt)\n",
    "    controller.set_models(As, Bs, Cs)\n",
    "    slack_per_episode.append(slacks)\n",
    "    term_slack_per_episode.append(terminal_slacks)"
   ]
  },
  {
   "cell_type": "code",
   "execution_count": null,
   "metadata": {},
   "outputs": [],
   "source": [
    "fig = plt.figure(figsize=figsize)\n",
    "ax = plt.gca()\n",
    "plot_experiment(controller.traj_list, x_preds, ax)\n",
    "X_bar = polytope.Polytope(*controller.state_constraints)\n",
    "X_bar.project((1,2)).plot(ax, alpha=0.3)"
   ]
  },
  {
   "cell_type": "code",
   "execution_count": null,
   "metadata": {},
   "outputs": [],
   "source": [
    "ltv_tube_lmpc_costs = [q[0] for q in controller.value_func_list]\n",
    "plt.plot(ltv_tube_lmpc_costs, \"k-o\")"
   ]
  },
  {
   "cell_type": "markdown",
   "metadata": {},
   "source": [
    "## LTV Robust LMPC"
   ]
  },
  {
   "cell_type": "code",
   "execution_count": null,
   "metadata": {},
   "outputs": [],
   "source": [
    "## Minimal Invariant Cannot Be Computed\n",
    "alpha = .1\n",
    "M = polytope.box2poly([[-alpha, alpha]] * n_states)\n",
    "minimal_invariant = (M.A, M.b)\n",
    "\n",
    "controller = controllers.LTV_Robust_LMPC(A, B, C,\n",
    "                                    controller_horizon, \n",
    "                                    Q, R, state_reference, input_reference,\n",
    "                                    state_constraints, input_constraints, minimal_invariant)\n",
    "\n",
    "controller.add_trajectory(x_init_traj[:-1,:].T, u_init_traj.T, init_value_function)\n"
   ]
  },
  {
   "cell_type": "code",
   "execution_count": null,
   "metadata": {},
   "outputs": [],
   "source": [
    "slack_per_episode = []\n",
    "term_slack_per_episode = []\n",
    "for episode in range(num_episodes):\n",
    "    vehicle = get_vehicle()\n",
    "    x_traj, u_traj, x_preds, u_preds, slacks, terminal_slacks = experiment_utils.sim_traj(vehicle, controller, input_bounds, episode_length, model_callback=model_callback)\n",
    "    value_function = control_utils.compute_traj_cost(x_traj[:-1,:].T, u_traj.T, h)\n",
    "    \n",
    "    controller.add_trajectory(x_traj[:-1,:].T, u_traj.T, value_function)\n",
    "    As, Bs, Cs = control_utils.linearize_around(vehicle, x_traj[:controller.N,:].T, u_traj[:controller.N,:].T, vehicle.dt)\n",
    "    controller.set_models(As, Bs, Cs)\n",
    "    slack_per_episode.append(slacks)\n",
    "    term_slack_per_episode.append(terminal_slacks)"
   ]
  },
  {
   "cell_type": "code",
   "execution_count": null,
   "metadata": {},
   "outputs": [],
   "source": [
    "fig = plt.figure(figsize=figsize)\n",
    "ax = plt.gca()\n",
    "plot_experiment(controller.traj_list, x_preds, ax)\n",
    "X_bar = polytope.Polytope(*controller.state_constraints)\n",
    "X_bar.project((1,2)).plot(ax, alpha=0.3)"
   ]
  },
  {
   "cell_type": "code",
   "execution_count": null,
   "metadata": {},
   "outputs": [],
   "source": [
    "ltv_robust_lmpc_costs = [q[0] for q in controller.value_func_list]\n",
    "plt.plot(ltv_robust_lmpc_costs, \"k-o\")"
   ]
  },
  {
   "cell_type": "code",
   "execution_count": null,
   "metadata": {},
   "outputs": [],
   "source": [
    "controller.input_traj_list[-1]"
   ]
  },
  {
   "cell_type": "markdown",
   "metadata": {},
   "source": [
    "## True LTV Robust LMPC"
   ]
  },
  {
   "cell_type": "code",
   "execution_count": null,
   "metadata": {},
   "outputs": [],
   "source": [
    "## Minimal Invariant Cannot Be Computed\n",
    "alpha = .1\n",
    "M = polytope.box2poly([[-alpha, alpha]] * n_states)\n",
    "minimal_invariant = (M.A, M.b)\n",
    "\n",
    "controller = controllers.True_LTV_Robust_LMPC(A, B, C,\n",
    "                                    controller_horizon * 2, \n",
    "                                    Q, R, state_reference, input_reference,\n",
    "                                    state_constraints, input_constraints, minimal_invariant)\n",
    "\n",
    "controller.add_trajectory(x_init_traj[:-1,:].T, u_init_traj.T, init_value_function)"
   ]
  },
  {
   "cell_type": "code",
   "execution_count": null,
   "metadata": {},
   "outputs": [],
   "source": [
    "slack_per_episode = []\n",
    "term_slack_per_episode = []\n",
    "for episode in range(num_episodes * 2):\n",
    "    vehicle = get_vehicle()\n",
    "    x_traj, u_traj, x_preds, u_preds, slacks, terminal_slacks = experiment_utils.sim_traj(vehicle, controller, input_bounds, episode_length, model_callback=ltv_model_callback)\n",
    "    value_function = control_utils.compute_traj_cost(x_traj[:-1,:].T, u_traj.T, h)\n",
    "    controller.add_trajectory(x_traj[:-1,:].T, u_traj.T, value_function)\n",
    "    slack_per_episode.append(slacks)\n",
    "    term_slack_per_episode.append(terminal_slacks)"
   ]
  },
  {
   "cell_type": "code",
   "execution_count": 53,
   "metadata": {},
   "outputs": [
    {
     "data": {
      "text/plain": [
       "<matplotlib.axes._subplots.AxesSubplot at 0x18afa73ef28>"
      ]
     },
     "execution_count": 53,
     "metadata": {},
     "output_type": "execute_result"
    },
    {
     "data": {
      "image/png": "[encoded data removed]",
      "text/plain": [
       "<matplotlib.figure.Figure at 0x18afa73ec88>"
      ]
     },
     "metadata": {},
     "output_type": "display_data"
    }
   ],
   "source": [
    "fig = plt.figure(figsize=figsize)\n",
    "ax = plt.gca()\n",
    "plot_experiment(controller.traj_list, x_preds, ax)\n",
    "X_bar = polytope.Polytope(*controller.state_constraints)\n",
    "X_bar.project((1,2)).plot(ax, alpha=0.3)"
   ]
  },
  {
   "cell_type": "code",
   "execution_count": 54,
   "metadata": {},
   "outputs": [
    {
     "data": {
      "text/plain": [
       "[<matplotlib.lines.Line2D at 0x18afbc31c88>]"
      ]
     },
     "execution_count": 54,
     "metadata": {},
     "output_type": "execute_result"
    },
    {
     "data": {
      "image/png": "[encoded data removed]",
      "text/plain": [
       "<matplotlib.figure.Figure at 0x18af948d6d8>"
      ]
     },
     "metadata": {},
     "output_type": "display_data"
    }
   ],
   "source": [
    "true_ltv_robust_lmpc_costs = [q[0] for q in controller.value_func_list]\n",
    "plt.plot(true_ltv_robust_lmpc_costs, \"k-o\")"
   ]
  },
  {
   "cell_type": "markdown",
   "metadata": {},
   "source": [
    "## Trajectory Optimization with SCP"
   ]
  },
  {
   "cell_type": "code",
   "execution_count": 6,
   "metadata": {},
   "outputs": [],
   "source": [
    "traj_opt = trajectory_optimizers.SCP_Traj_Opt(episode_length, Q, R, state_reference, input_reference, state_constraints, input_constraints, tolerance=1e-3, regularization=1e0)\n",
    "traj_opt.build()"
   ]
  },
  {
   "cell_type": "code",
   "execution_count": 7,
   "metadata": {},
   "outputs": [
    {
     "name": "stderr",
     "output_type": "stream",
     "text": [
      "100%|███████████████████████████████████████████████████████████████████████| 50/50 [00:00<00:00, 1668.66it/s]\n",
      "100%|███████████████████████████████████████████████████████████████████████| 50/50 [00:00<00:00, 2088.90it/s]\n",
      "100%|███████████████████████████████████████████████████████████████████████| 50/50 [00:00<00:00, 2178.32it/s]\n",
      "100%|███████████████████████████████████████████████████████████████████████| 50/50 [00:00<00:00, 2091.76it/s]\n",
      "100%|███████████████████████████████████████████████████████████████████████| 50/50 [00:00<00:00, 2088.86it/s]\n",
      "100%|███████████████████████████████████████████████████████████████████████| 50/50 [00:00<00:00, 1519.09it/s]\n",
      "100%|███████████████████████████████████████████████████████████████████████| 50/50 [00:00<00:00, 2177.23it/s]\n",
      "100%|███████████████████████████████████████████████████████████████████████| 50/50 [00:00<00:00, 2175.47it/s]\n",
      "100%|███████████████████████████████████████████████████████████████████████| 50/50 [00:00<00:00, 2179.79it/s]\n",
      "100%|███████████████████████████████████████████████████████████████████████| 50/50 [00:00<00:00, 2177.32it/s]\n",
      "100%|███████████████████████████████████████████████████████████████████████| 50/50 [00:00<00:00, 1726.18it/s]\n",
      "100%|███████████████████████████████████████████████████████████████████████| 50/50 [00:00<00:00, 2088.90it/s]\n",
      "100%|███████████████████████████████████████████████████████████████████████| 50/50 [00:00<00:00, 1925.34it/s]\n",
      "100%|███████████████████████████████████████████████████████████████████████| 50/50 [00:00<00:00, 2179.77it/s]\n",
      "100%|███████████████████████████████████████████████████████████████████████| 50/50 [00:00<00:00, 2091.59it/s]\n",
      "100%|███████████████████████████████████████████████████████████████████████| 50/50 [00:00<00:00, 1618.63it/s]\n",
      "100%|███████████████████████████████████████████████████████████████████████| 50/50 [00:00<00:00, 2088.92it/s]\n",
      "100%|███████████████████████████████████████████████████████████████████████| 50/50 [00:00<00:00, 2179.65it/s]\n",
      "100%|███████████████████████████████████████████████████████████████████████| 50/50 [00:00<00:00, 2179.81it/s]\n",
      "100%|███████████████████████████████████████████████████████████████████████| 50/50 [00:00<00:00, 1856.71it/s]\n",
      "100%|███████████████████████████████████████████████████████████████████████| 50/50 [00:00<00:00, 1856.87it/s]\n",
      "100%|███████████████████████████████████████████████████████████████████████| 50/50 [00:00<00:00, 2140.80it/s]\n",
      "100%|███████████████████████████████████████████████████████████████████████| 50/50 [00:00<00:00, 2178.88it/s]\n",
      "100%|███████████████████████████████████████████████████████████████████████| 50/50 [00:00<00:00, 1928.11it/s]\n",
      "100%|███████████████████████████████████████████████████████████████████████| 50/50 [00:00<00:00, 1564.55it/s]\n",
      "100%|███████████████████████████████████████████████████████████████████████| 50/50 [00:00<00:00, 1854.41it/s]\n",
      "100%|███████████████████████████████████████████████████████████████████████| 50/50 [00:00<00:00, 1428.81it/s]\n",
      "100%|███████████████████████████████████████████████████████████████████████| 50/50 [00:00<00:00, 1671.13it/s]\n",
      "100%|███████████████████████████████████████████████████████████████████████| 50/50 [00:00<00:00, 1139.43it/s]\n",
      "100%|███████████████████████████████████████████████████████████████████████| 50/50 [00:00<00:00, 1671.18it/s]\n"
     ]
    },
    {
     "name": "stdout",
     "output_type": "stream",
     "text": [
      "converged in 30 iterations\n"
     ]
    }
   ],
   "source": [
    "for i in range(30):\n",
    "    vehicle = get_vehicle()\n",
    "    if i == 0:\n",
    "        As, Bs, Cs = control_utils.linearize_around(vehicle, x_init_traj.T, u_init_traj.T, vehicle.dt)\n",
    "        x_traj_opt, u_traj_opt, converged = traj_opt.solve_iteration(x_init_traj.T, u_init_traj.T, As, Bs)\n",
    "    else:\n",
    "        As, Bs, Cs = control_utils.linearize_around(vehicle, x_traj.T, u_traj.T, vehicle.dt)\n",
    "        x_traj_opt, u_traj_opt, converged = traj_opt.solve_iteration(x_traj.T, u_traj.T, As, Bs)\n",
    "    \n",
    "    controller = traj_opt.get_controller()\n",
    "    vehicle = get_vehicle()\n",
    "    x_traj, u_traj, _, _, _, _ = experiment_utils.sim_traj(vehicle, controller, input_bounds, episode_length)\n",
    "    if converged:\n",
    "        break\n",
    "print(\"converged in %d iterations\" % traj_opt.i)"
   ]
  },
  {
   "cell_type": "code",
   "execution_count": 10,
   "metadata": {},
   "outputs": [
    {
     "data": {
      "text/plain": [
       "<matplotlib.legend.Legend at 0x2f121215160>"
      ]
     },
     "execution_count": 10,
     "metadata": {},
     "output_type": "execute_result"
    },
    {
     "data": {
      "image/png": "[encoded data removed]",
      "text/plain": [
       "<matplotlib.figure.Figure at 0x2f1212b8390>"
      ]
     },
     "metadata": {},
     "output_type": "display_data"
    }
   ],
   "source": [
    "plt.plot(traj_opt.traj_list[0][0,:], traj_opt.traj_list[0][1,:], \"k-o\", label=\"initial\")\n",
    "for traj in traj_opt.traj_list[1:-1]:\n",
    "    plt.plot(traj[0,:], traj[1,:], \"k--\", label=\"intermediate\")\n",
    "plt.plot(traj_opt.traj_list[-1][0,:], traj_opt.traj_list[-1][1,:], \"r-o\", label=\"final\")\n",
    "ax = plt.gca()\n",
    "handles, labels = ax.get_legend_handles_labels()\n",
    "plt.legend([handles[0], handles[1], handles[-1]], [labels[0], labels[1], labels[-1]])"
   ]
  },
  {
   "cell_type": "code",
   "execution_count": 11,
   "metadata": {
    "scrolled": true
   },
   "outputs": [
    {
     "name": "stdout",
     "output_type": "stream",
     "text": [
      "1639.7088504215997\n"
     ]
    },
    {
     "data": {
      "image/png": "[encoded data removed]",
      "text/plain": [
       "<matplotlib.figure.Figure at 0x2f120a008d0>"
      ]
     },
     "metadata": {},
     "output_type": "display_data"
    }
   ],
   "source": [
    "plt.plot(traj_opt.solution_costs)\n",
    "print(traj_opt.solution_costs[-1])"
   ]
  },
  {
   "cell_type": "code",
   "execution_count": 88,
   "metadata": {},
   "outputs": [
    {
     "name": "stdout",
     "output_type": "stream",
     "text": [
      "1639.7149072329873\n"
     ]
    }
   ],
   "source": [
    "true_scp_cost = control_utils.compute_traj_cost(x_traj.T[:,:-1], traj_opt.input_traj_list[-1], h)\n",
    "print(true_scp_cost[0])"
   ]
  },
  {
   "cell_type": "code",
   "execution_count": 89,
   "metadata": {},
   "outputs": [
    {
     "data": {
      "image/png": "[encoded data removed]",
      "text/plain": [
       "<matplotlib.figure.Figure at 0x168a4bfa470>"
      ]
     },
     "metadata": {},
     "output_type": "display_data"
    }
   ],
   "source": [
    "plt.figure(figsize=figsize)\n",
    "ax = plt.gca()\n",
    "plot_experiment([x_traj.T], [], ax)"
   ]
  },
  {
   "cell_type": "markdown",
   "metadata": {},
   "source": [
    "\n",
    "## Plot Results"
   ]
  },
  {
   "cell_type": "code",
   "execution_count": 63,
   "metadata": {},
   "outputs": [
    {
     "ename": "NameError",
     "evalue": "name 'lblmpc_costs' is not defined",
     "output_type": "error",
     "traceback": [
      "\u001b[1;31m---------------------------------------------------------------------------\u001b[0m",
      "\u001b[1;31mNameError\u001b[0m                                 Traceback (most recent call last)",
      "\u001b[1;32m<ipython-input-63-381a918c2823>\u001b[0m in \u001b[0;36m<module>\u001b[1;34m()\u001b[0m\n\u001b[0;32m      1\u001b[0m \u001b[1;31m# ltv_tube_lmpc_costs = [q[0] for q in controller.value_func_list]\u001b[0m\u001b[1;33m\u001b[0m\u001b[1;33m\u001b[0m\u001b[0m\n\u001b[0;32m      2\u001b[0m \u001b[0mplt\u001b[0m\u001b[1;33m.\u001b[0m\u001b[0mfigure\u001b[0m\u001b[1;33m(\u001b[0m\u001b[0mfigsize\u001b[0m\u001b[1;33m=\u001b[0m\u001b[1;33m(\u001b[0m\u001b[1;36m10\u001b[0m\u001b[1;33m,\u001b[0m\u001b[1;36m4\u001b[0m\u001b[1;33m)\u001b[0m\u001b[1;33m)\u001b[0m\u001b[1;33m\u001b[0m\u001b[0m\n\u001b[1;32m----> 3\u001b[1;33m \u001b[0mplt\u001b[0m\u001b[1;33m.\u001b[0m\u001b[0mplot\u001b[0m\u001b[1;33m(\u001b[0m\u001b[0mlblmpc_costs\u001b[0m\u001b[1;33m,\u001b[0m \u001b[1;34m\"k-o\"\u001b[0m\u001b[1;33m,\u001b[0m \u001b[0mlabel\u001b[0m\u001b[1;33m=\u001b[0m\u001b[1;34m\"LBLMPC\"\u001b[0m\u001b[1;33m)\u001b[0m\u001b[1;33m\u001b[0m\u001b[0m\n\u001b[0m\u001b[0;32m      4\u001b[0m \u001b[0mplt\u001b[0m\u001b[1;33m.\u001b[0m\u001b[0mplot\u001b[0m\u001b[1;33m(\u001b[0m\u001b[0mlti_lmpc_costs\u001b[0m\u001b[1;33m,\u001b[0m \u001b[1;34m\"r-o\"\u001b[0m\u001b[1;33m,\u001b[0m \u001b[0mlabel\u001b[0m\u001b[1;33m=\u001b[0m\u001b[1;34m\"LTI-LMPC\"\u001b[0m\u001b[1;33m)\u001b[0m\u001b[1;33m\u001b[0m\u001b[0m\n\u001b[0;32m      5\u001b[0m \u001b[0mplt\u001b[0m\u001b[1;33m.\u001b[0m\u001b[0mplot\u001b[0m\u001b[1;33m(\u001b[0m\u001b[0mltv_tube_lmpc_costs\u001b[0m\u001b[1;33m,\u001b[0m \u001b[1;34m\"b-o\"\u001b[0m\u001b[1;33m,\u001b[0m \u001b[0mlabel\u001b[0m\u001b[1;33m=\u001b[0m\u001b[1;34m\"LTV-TUBE-LMPC\"\u001b[0m\u001b[1;33m)\u001b[0m\u001b[1;33m\u001b[0m\u001b[0m\n",
      "\u001b[1;31mNameError\u001b[0m: name 'lblmpc_costs' is not defined"
     ]
    },
    {
     "data": {
      "text/plain": [
       "<matplotlib.figure.Figure at 0x18afc5b92b0>"
      ]
     },
     "metadata": {},
     "output_type": "display_data"
    }
   ],
   "source": [
    "plt.figure(figsize=(10,4))\n",
    "plt.plot(lblmpc_costs, \"k-o\", label=\"LBLMPC\")\n",
    "plt.plot(lti_lmpc_costs, \"r-o\", label=\"LTI-LMPC\")\n",
    "plt.plot(ltv_tube_lmpc_costs, \"b-o\", label=\"LTV-TUBE-LMPC\")\n",
    "plt.plot(np.arange(num_episodes+1), np.ones(num_episodes+1) * fixed_lti_mpc_cost[0], \"m-o\", label=\"LTI-MPC\")\n",
    "plt.plot(true_ltv_costs, \"c-o\", label=\"True-LTV-LMPC\")\n",
    "plt.plot(naive_ltv_costs, \"-o\", label=\"Naive-LTV-LMPC\")\n",
    "plt.plot(local_ltv_costs, \"-o\", label=\"Local-LTV-LMPC\")\n",
    "plt.plot(ltv_robust_lmpc_costs, \"-o\", label=\"LTV-Robust-LMPC\")\n",
    "plt.plot(true_ltv_robust_lmpc_costs, \"-o\", label=\"True-LTV-Robust-LMPC\")\n",
    "plt.plot(np.arange(num_episodes+1), np.ones(num_episodes+1) * true_scp_cost[0], \"--\", label=\"SCP\")\n",
    "plt.xlabel(\"Iteration\")\n",
    "plt.ylabel(\"Trajectory Cost\")\n",
    "plt.title(\"Convergence of Nominal Learning Controllers, dt=%.2f, Tracker\" % dt)\n",
    "plt.legend(loc=\"upper right\", bbox_to_anchor=(1.425,1.02))\n",
    "# plt.ylim(2500, 5000)\n",
    "save_dir = \"drone_trajopt_expts/\"\n",
    "# plt.savefig(save_dir + \"drone_converge_nominal_tracker_10hz.png\", bbox_inches=\"tight\")"
   ]
  },
  {
   "cell_type": "code",
   "execution_count": 64,
   "metadata": {},
   "outputs": [
    {
     "ename": "NameError",
     "evalue": "name 'lblmpc_costs' is not defined",
     "output_type": "error",
     "traceback": [
      "\u001b[1;31m---------------------------------------------------------------------------\u001b[0m",
      "\u001b[1;31mNameError\u001b[0m                                 Traceback (most recent call last)",
      "\u001b[1;32m<ipython-input-64-9f0d2cee2ca2>\u001b[0m in \u001b[0;36m<module>\u001b[1;34m()\u001b[0m\n\u001b[0;32m      1\u001b[0m \u001b[0mplt\u001b[0m\u001b[1;33m.\u001b[0m\u001b[0mfigure\u001b[0m\u001b[1;33m(\u001b[0m\u001b[0mfigsize\u001b[0m\u001b[1;33m=\u001b[0m\u001b[1;33m(\u001b[0m\u001b[1;36m10\u001b[0m\u001b[1;33m,\u001b[0m\u001b[1;36m4\u001b[0m\u001b[1;33m)\u001b[0m\u001b[1;33m)\u001b[0m\u001b[1;33m\u001b[0m\u001b[0m\n\u001b[1;32m----> 2\u001b[1;33m \u001b[0mplt\u001b[0m\u001b[1;33m.\u001b[0m\u001b[0mplot\u001b[0m\u001b[1;33m(\u001b[0m\u001b[0mlblmpc_costs\u001b[0m\u001b[1;33m,\u001b[0m \u001b[1;34m\"k-o\"\u001b[0m\u001b[1;33m,\u001b[0m \u001b[0mlabel\u001b[0m\u001b[1;33m=\u001b[0m\u001b[1;34m\"LBLMPC\"\u001b[0m\u001b[1;33m)\u001b[0m\u001b[1;33m\u001b[0m\u001b[0m\n\u001b[0m\u001b[0;32m      3\u001b[0m \u001b[0mplt\u001b[0m\u001b[1;33m.\u001b[0m\u001b[0mplot\u001b[0m\u001b[1;33m(\u001b[0m\u001b[0mltv_tube_lmpc_costs\u001b[0m\u001b[1;33m,\u001b[0m \u001b[1;34m\"b-o\"\u001b[0m\u001b[1;33m,\u001b[0m \u001b[0mlabel\u001b[0m\u001b[1;33m=\u001b[0m\u001b[1;34m\"LTV-TUBE-LMPC\"\u001b[0m\u001b[1;33m)\u001b[0m\u001b[1;33m\u001b[0m\u001b[0m\n\u001b[0;32m      4\u001b[0m \u001b[0mplt\u001b[0m\u001b[1;33m.\u001b[0m\u001b[0mplot\u001b[0m\u001b[1;33m(\u001b[0m\u001b[0mltv_robust_lmpc_costs\u001b[0m\u001b[1;33m,\u001b[0m \u001b[1;34m\"-o\"\u001b[0m\u001b[1;33m,\u001b[0m \u001b[0mlabel\u001b[0m\u001b[1;33m=\u001b[0m\u001b[1;34m\"LTV-Robust-LMPC\"\u001b[0m\u001b[1;33m)\u001b[0m\u001b[1;33m\u001b[0m\u001b[0m\n\u001b[0;32m      5\u001b[0m \u001b[0mplt\u001b[0m\u001b[1;33m.\u001b[0m\u001b[0mplot\u001b[0m\u001b[1;33m(\u001b[0m\u001b[0mtrue_ltv_robust_lmpc_costs\u001b[0m\u001b[1;33m,\u001b[0m \u001b[1;34m\"-o\"\u001b[0m\u001b[1;33m,\u001b[0m \u001b[0mlabel\u001b[0m\u001b[1;33m=\u001b[0m\u001b[1;34m\"True-LTV-Robust-LMPC\"\u001b[0m\u001b[1;33m)\u001b[0m\u001b[1;33m\u001b[0m\u001b[0m\n",
      "\u001b[1;31mNameError\u001b[0m: name 'lblmpc_costs' is not defined"
     ]
    },
    {
     "data": {
      "text/plain": [
       "<matplotlib.figure.Figure at 0x18afc5c8ac8>"
      ]
     },
     "metadata": {},
     "output_type": "display_data"
    }
   ],
   "source": [
    "plt.figure(figsize=(10,4))\n",
    "plt.plot(lblmpc_costs, \"k-o\", label=\"LBLMPC\")\n",
    "plt.plot(ltv_tube_lmpc_costs, \"b-o\", label=\"LTV-TUBE-LMPC\")\n",
    "plt.plot(ltv_robust_lmpc_costs, \"-o\", label=\"LTV-Robust-LMPC\")\n",
    "plt.plot(true_ltv_robust_lmpc_costs, \"-o\", label=\"True-LTV-Robust-LMPC\")\n",
    "plt.plot(np.arange(num_episodes+1), np.ones(num_episodes+1) * true_scp_cost[0], \"--\", label=\"SCP\")\n",
    "plt.xlabel(\"Iteration\")\n",
    "plt.ylabel(\"Trajectory Cost\")\n",
    "plt.title(\"Convergence of Robust Learning Controllers, dt=%.2f, Tracker\" % dt)\n",
    "plt.legend(loc=\"upper right\", bbox_to_anchor=(1.425,1.02))\n",
    "# plt.ylim(2500, 5000)\n",
    "save_dir = \"drone_trajopt_expts/\"\n",
    "# plt.savefig(save_dir + \"drone_converge_nominal_tracker_10hz.png\", bbox_inches=\"tight\")"
   ]
  },
  {
   "cell_type": "code",
   "execution_count": null,
   "metadata": {},
   "outputs": [],
   "source": []
  }
 ],
 "metadata": {
  "kernelspec": {
   "display_name": "Python 3",
   "language": "python",
   "name": "python3"
  },
  "language_info": {
   "codemirror_mode": {
    "name": "ipython",
    "version": 3
   },
   "file_extension": ".py",
   "mimetype": "text/x-python",
   "name": "python",
   "nbconvert_exporter": "python",
   "pygments_lexer": "ipython3",
   "version": "3.6.4"
  }
 },
 "nbformat": 4,
 "nbformat_minor": 2
}
